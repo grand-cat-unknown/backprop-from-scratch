{
  "nbformat": 4,
  "nbformat_minor": 0,
  "metadata": {
    "colab": {
      "provenance": [],
      "authorship_tag": "ABX9TyPlKuxJuK2rern5QAKgAd3h",
      "include_colab_link": true
    },
    "kernelspec": {
      "name": "python3",
      "display_name": "Python 3"
    },
    "language_info": {
      "name": "python"
    }
  },
  "cells": [
    {
      "cell_type": "markdown",
      "metadata": {
        "id": "view-in-github",
        "colab_type": "text"
      },
      "source": [
        "<a href=\"https://colab.research.google.com/github/grand-cat-unknown/backprop-from-scratch/blob/main/Backprop.ipynb\" target=\"_parent\"><img src=\"https://colab.research.google.com/assets/colab-badge.svg\" alt=\"Open In Colab\"/></a>"
      ]
    },
    {
      "cell_type": "code",
      "execution_count": 1,
      "metadata": {
        "id": "4NnUluoKeoX7"
      },
      "outputs": [],
      "source": [
        "import math\n",
        "import numpy as np\n",
        "import matplotlib.pyplot as plt\n",
        "%matplotlib inline"
      ]
    },
    {
      "cell_type": "code",
      "source": [
        "def f(x):\n",
        "  return x**3 - 5*x + 7"
      ],
      "metadata": {
        "id": "f2G1-lqYgHXZ"
      },
      "execution_count": 2,
      "outputs": []
    },
    {
      "cell_type": "code",
      "source": [
        "x_range = np.arange(-5,5, 0.1)\n",
        "print(x_range)\n",
        "print(type(x_range))"
      ],
      "metadata": {
        "colab": {
          "base_uri": "https://localhost:8080/"
        },
        "id": "GaQZ2xXigNHv",
        "outputId": "105c70f7-3b58-428a-dda1-dc7ca25df498"
      },
      "execution_count": 3,
      "outputs": [
        {
          "output_type": "stream",
          "name": "stdout",
          "text": [
            "[-5.00000000e+00 -4.90000000e+00 -4.80000000e+00 -4.70000000e+00\n",
            " -4.60000000e+00 -4.50000000e+00 -4.40000000e+00 -4.30000000e+00\n",
            " -4.20000000e+00 -4.10000000e+00 -4.00000000e+00 -3.90000000e+00\n",
            " -3.80000000e+00 -3.70000000e+00 -3.60000000e+00 -3.50000000e+00\n",
            " -3.40000000e+00 -3.30000000e+00 -3.20000000e+00 -3.10000000e+00\n",
            " -3.00000000e+00 -2.90000000e+00 -2.80000000e+00 -2.70000000e+00\n",
            " -2.60000000e+00 -2.50000000e+00 -2.40000000e+00 -2.30000000e+00\n",
            " -2.20000000e+00 -2.10000000e+00 -2.00000000e+00 -1.90000000e+00\n",
            " -1.80000000e+00 -1.70000000e+00 -1.60000000e+00 -1.50000000e+00\n",
            " -1.40000000e+00 -1.30000000e+00 -1.20000000e+00 -1.10000000e+00\n",
            " -1.00000000e+00 -9.00000000e-01 -8.00000000e-01 -7.00000000e-01\n",
            " -6.00000000e-01 -5.00000000e-01 -4.00000000e-01 -3.00000000e-01\n",
            " -2.00000000e-01 -1.00000000e-01 -1.77635684e-14  1.00000000e-01\n",
            "  2.00000000e-01  3.00000000e-01  4.00000000e-01  5.00000000e-01\n",
            "  6.00000000e-01  7.00000000e-01  8.00000000e-01  9.00000000e-01\n",
            "  1.00000000e+00  1.10000000e+00  1.20000000e+00  1.30000000e+00\n",
            "  1.40000000e+00  1.50000000e+00  1.60000000e+00  1.70000000e+00\n",
            "  1.80000000e+00  1.90000000e+00  2.00000000e+00  2.10000000e+00\n",
            "  2.20000000e+00  2.30000000e+00  2.40000000e+00  2.50000000e+00\n",
            "  2.60000000e+00  2.70000000e+00  2.80000000e+00  2.90000000e+00\n",
            "  3.00000000e+00  3.10000000e+00  3.20000000e+00  3.30000000e+00\n",
            "  3.40000000e+00  3.50000000e+00  3.60000000e+00  3.70000000e+00\n",
            "  3.80000000e+00  3.90000000e+00  4.00000000e+00  4.10000000e+00\n",
            "  4.20000000e+00  4.30000000e+00  4.40000000e+00  4.50000000e+00\n",
            "  4.60000000e+00  4.70000000e+00  4.80000000e+00  4.90000000e+00]\n",
            "<class 'numpy.ndarray'>\n"
          ]
        }
      ]
    },
    {
      "cell_type": "code",
      "source": [
        "f(x_range)"
      ],
      "metadata": {
        "colab": {
          "base_uri": "https://localhost:8080/"
        },
        "id": "kt6qky6rgeas",
        "outputId": "d608b76a-7a16-4de2-cf9d-1d7731d4e17f"
      },
      "execution_count": 4,
      "outputs": [
        {
          "output_type": "execute_result",
          "data": {
            "text/plain": [
              "array([-93.   , -86.149, -79.592, -73.323, -67.336, -61.625, -56.184,\n",
              "       -51.007, -46.088, -41.421, -37.   , -32.819, -28.872, -25.153,\n",
              "       -21.656, -18.375, -15.304, -12.437,  -9.768,  -7.291,  -5.   ,\n",
              "        -2.889,  -0.952,   0.817,   2.424,   3.875,   5.176,   6.333,\n",
              "         7.352,   8.239,   9.   ,   9.641,  10.168,  10.587,  10.904,\n",
              "        11.125,  11.256,  11.303,  11.272,  11.169,  11.   ,  10.771,\n",
              "        10.488,  10.157,   9.784,   9.375,   8.936,   8.473,   7.992,\n",
              "         7.499,   7.   ,   6.501,   6.008,   5.527,   5.064,   4.625,\n",
              "         4.216,   3.843,   3.512,   3.229,   3.   ,   2.831,   2.728,\n",
              "         2.697,   2.744,   2.875,   3.096,   3.413,   3.832,   4.359,\n",
              "         5.   ,   5.761,   6.648,   7.667,   8.824,  10.125,  11.576,\n",
              "        13.183,  14.952,  16.889,  19.   ,  21.291,  23.768,  26.437,\n",
              "        29.304,  32.375,  35.656,  39.153,  42.872,  46.819,  51.   ,\n",
              "        55.421,  60.088,  65.007,  70.184,  75.625,  81.336,  87.323,\n",
              "        93.592, 100.149])"
            ]
          },
          "metadata": {},
          "execution_count": 4
        }
      ]
    },
    {
      "cell_type": "code",
      "source": [
        "plt.plot(x_range, f(x_range))"
      ],
      "metadata": {
        "colab": {
          "base_uri": "https://localhost:8080/",
          "height": 448
        },
        "id": "2G95Cd4YgnfR",
        "outputId": "4eaabc4b-c2a2-4708-cfc3-f1e7452563ec"
      },
      "execution_count": 5,
      "outputs": [
        {
          "output_type": "execute_result",
          "data": {
            "text/plain": [
              "[<matplotlib.lines.Line2D at 0x795c0e44a650>]"
            ]
          },
          "metadata": {},
          "execution_count": 5
        },
        {
          "output_type": "display_data",
          "data": {
            "text/plain": [
              "<Figure size 640x480 with 1 Axes>"
            ],
            "image/png": "[encoded data removed]"
          },
          "metadata": {}
        }
      ]
    },
    {
      "cell_type": "code",
      "source": [
        "def diff_f_x(x,h):\n",
        "  return (f(x+h) - f(x))/h"
      ],
      "metadata": {
        "id": "ykYk8GUxgrii"
      },
      "execution_count": 6,
      "outputs": []
    },
    {
      "cell_type": "code",
      "source": [
        "diff_f_x(-2,0.00001)"
      ],
      "metadata": {
        "colab": {
          "base_uri": "https://localhost:8080/"
        },
        "id": "Ql1Jy_uqhmaC",
        "outputId": "052b7695-4d01-4681-81c1-63253e7345bb"
      },
      "execution_count": 7,
      "outputs": [
        {
          "output_type": "execute_result",
          "data": {
            "text/plain": [
              "6.999940000085302"
            ]
          },
          "metadata": {},
          "execution_count": 7
        }
      ]
    },
    {
      "cell_type": "code",
      "source": [
        "a = 2.0\n",
        "b = -3.0\n",
        "c = 10.0\n",
        "\n",
        "def g(a,b,c):\n",
        "  return a*b + c"
      ],
      "metadata": {
        "id": "VXaQxc4Sh2XP"
      },
      "execution_count": 8,
      "outputs": []
    },
    {
      "cell_type": "code",
      "source": [
        "h = 0.0001\n",
        "diff_g_a = (g(a+h,b,c) - g(a,b,c))/h\n",
        "diff_g_b = (g(a,b+h,c) - g(a,b,c))/h\n",
        "diff_g_c = (g(a,b,c+h) - g(a,b,c))/h"
      ],
      "metadata": {
        "id": "IuXDmgoSizX9"
      },
      "execution_count": 9,
      "outputs": []
    },
    {
      "cell_type": "code",
      "source": [
        "print(diff_g_a)\n",
        "print(diff_g_b)\n",
        "print(diff_g_c)"
      ],
      "metadata": {
        "colab": {
          "base_uri": "https://localhost:8080/"
        },
        "id": "9Zh4fWMVjPxe",
        "outputId": "d3942bd8-0bd1-4410-d590-84263cd75999"
      },
      "execution_count": 10,
      "outputs": [
        {
          "output_type": "stream",
          "name": "stdout",
          "text": [
            "-3.000000000010772\n",
            "2.0000000000042206\n",
            "0.9999999999976694\n"
          ]
        }
      ]
    },
    {
      "cell_type": "markdown",
      "source": [
        "# **This is where start building micrograd!**"
      ],
      "metadata": {
        "id": "wPJ0QEDAjV0t"
      }
    },
    {
      "cell_type": "code",
      "source": [
        "import operator\n",
        "class Value:\n",
        "    def __init__(self, data, _children=(), _op='', label = ''):\n",
        "        self.data = data\n",
        "        self._prev = list(_children)\n",
        "        self._op = _op\n",
        "        self.label = label\n",
        "        # gradient w.r.t to the final output, not just it's parent\n",
        "        self.grad = 0.0\n",
        "\n",
        "    def __repr__(self):\n",
        "        return f\"Value(data={self.data},label={self.label})\"\n",
        "\n",
        "    def _operation(self, other, operation, symbol, reverse=False):\n",
        "        if isinstance(other, (float, int)):\n",
        "            other = Value(other)\n",
        "        if reverse:\n",
        "            return Value(operation(other.data, self.data), _children=(other, self), _op=symbol)\n",
        "        else:\n",
        "            return Value(operation(self.data, other.data), _children=(self, other), _op=symbol)\n",
        "\n",
        "    def __add__(self, other):\n",
        "        return self._operation(other, lambda x, y: x + y, '+')\n",
        "\n",
        "    def __sub__(self, other):\n",
        "        return self._operation(other, lambda x, y: x - y, '-')\n",
        "\n",
        "    def __mul__(self, other):\n",
        "        return self._operation(other, lambda x, y: x * y, '*')\n",
        "\n",
        "    def __truediv__(self, other):\n",
        "        return self._operation(other, lambda x, y: x / y, '/')\n",
        "\n",
        "    def __pow__(self, other):\n",
        "        return self._operation(other, lambda x, y: x ** y, '**')\n",
        "\n",
        "    def __radd__(self, other):\n",
        "        return self._operation(other, lambda x, y: x + y, '+', reverse=True)\n",
        "\n",
        "    def __rsub__(self, other):\n",
        "        return self._operation(other, lambda x, y: x - y, '-', reverse=True)\n",
        "\n",
        "    def __rmul__(self, other):\n",
        "        return self._operation(other, lambda x, y: x * y, '*', reverse=True)\n",
        "\n",
        "    def __rtruediv__(self, other):\n",
        "        return self._operation(other, lambda x, y: x / y, '/', reverse=True)\n",
        "\n",
        "    def __rpow__(self, other):\n",
        "        return self._operation(other, lambda x, y: x ** y, '**', reverse=True)\n",
        "\n",
        "    def apply_op(self, d, e):\n",
        "        ops = {\n",
        "            '+': operator.add,\n",
        "            '-': operator.sub,\n",
        "            '*': operator.mul,\n",
        "            '/': operator.truediv,\n",
        "            '**': operator.pow\n",
        "        }\n",
        "        if self._op in ops:\n",
        "            return Value(ops[self._op](d.data, e.data), _children=(d, e), _op=self._op)\n",
        "        else:\n",
        "            raise ValueError(f\"Invalid operation: {self._op}\")"
      ],
      "metadata": {
        "id": "yXTrRrbskvsU"
      },
      "execution_count": 11,
      "outputs": []
    },
    {
      "cell_type": "code",
      "source": [],
      "metadata": {
        "id": "7hehDbdEGIg_"
      },
      "execution_count": 11,
      "outputs": []
    },
    {
      "cell_type": "code",
      "source": [
        "from graphviz import Digraph\n",
        "def trace(root):\n",
        "  nodes, edges = set(), set()\n",
        "  def build(v):\n",
        "    if not v in nodes:\n",
        "      nodes.add(v)\n",
        "      for child in v._prev:\n",
        "        edges.add((child,v))\n",
        "        build(child)\n",
        "  build(root)\n",
        "  return nodes, edges\n",
        "\n",
        "def draw_graph(root):\n",
        "  dot = Digraph(format='svg', graph_attr={'rankdir': 'LR'})\n",
        "  nodes, edges = trace(root)\n",
        "\n",
        "  for n in nodes:\n",
        "    uid = str(id(n))\n",
        "    dot.node (name = uid, label = \"{%s | data %.4f | grad %.4f}\" % (n.label, n.data, n.grad), shape = 'record')\n",
        "\n",
        "    if n._op:\n",
        "      dot.node (name = uid + n._op, label = n._op, shape = 'oval')\n",
        "      dot.edge(uid+n._op, uid)\n",
        "\n",
        "  for e in edges:\n",
        "    dot.edge(str(id(e[0])), str(id(e[1]))+e[1]._op)\n",
        "\n",
        "  return dot\n",
        "\n",
        "\n",
        "def grad_child(root):\n",
        "  if len(root._prev) == 2:\n",
        "    child1,child2 = root._prev\n",
        "    if root._op == '*':\n",
        "      child1.grad = child2.data\n",
        "      child2.grad = child1.data\n",
        "    elif root._op == '+':\n",
        "      child1.grad = 1.0\n",
        "      child2.grad = 1.0\n",
        "    elif root._op == '-':\n",
        "      child1.grad = 1.0\n",
        "      child2.grad =  -1.0\n",
        "    elif root._op == '/':\n",
        "      child1.grad = (1.0/child2.data)\n",
        "      child2.grad = - (child1.data/(child2.data**2))\n",
        "    child1.grad = child1.grad * root.grad\n",
        "    child2.grad = child2.grad * root.grad\n",
        "\n",
        "\n",
        "def backprop(root):\n",
        "  grad_child(root)\n",
        "  for i in root._prev:\n",
        "    backprop(i)"
      ],
      "metadata": {
        "id": "DLs9WP_Sk3uS"
      },
      "execution_count": 26,
      "outputs": []
    },
    {
      "cell_type": "code",
      "source": [
        "a = Value(3, label = 'a')\n",
        "b = Value(4, label = 'b')\n",
        "c = Value(2, label = 'c')\n",
        "f = Value(5, label = 'f')\n",
        "d = a + b; d.label = 'd'\n",
        "e = d / c; e.label = 'e'\n",
        "g = e - f; g.label = 'g'"
      ],
      "metadata": {
        "id": "uN8loiWy6xfo"
      },
      "execution_count": 27,
      "outputs": []
    },
    {
      "cell_type": "code",
      "source": [
        "draw_graph(g)"
      ],
      "metadata": {
        "colab": {
          "base_uri": "https://localhost:8080/",
          "height": 192
        },
        "id": "5zErMj_572B0",
        "outputId": "3240a56c-1e4c-4d3a-988e-5b6478bb80ef"
      },
      "execution_count": 28,
      "outputs": [
        {
          "output_type": "execute_result",
          "data": {
            "image/svg+xml": "<?xml version=\"1.0\" encoding=\"UTF-8\" standalone=\"no\"?>\n<!DOCTYPE svg PUBLIC \"-//W3C//DTD SVG 1.1//EN\"\n \"http://www.w3.org/Graphics/SVG/1.1/DTD/svg11.dtd\">\n<!-- Generated by graphviz version 2.43.0 (0)\n -->\n<!-- Title: %3 Pages: 1 -->\n<svg width=\"1131pt\" height=\"128pt\"\n viewBox=\"0.00 0.00 1131.00 128.00\" xmlns=\"http://www.w3.org/2000/svg\" xmlns:xlink=\"http://www.w3.org/1999/xlink\">\n<g id=\"graph0\" class=\"graph\" transform=\"scale(1 1) rotate(0) translate(4 124)\">\n<title>%3</title>\n<polygon fill=\"white\" stroke=\"transparent\" points=\"-4,4 -4,-124 1127,-124 1127,4 -4,4\"/>\n<!-- 133436248837280 -->\n<g id=\"node1\" class=\"node\">\n<title>133436248837280</title>\n<polygon fill=\"none\" stroke=\"black\" points=\"933,-27.5 933,-63.5 1123,-63.5 1123,-27.5 933,-27.5\"/>\n<text text-anchor=\"middle\" x=\"944.5\" y=\"-41.8\" font-family=\"Times,serif\" font-size=\"14.00\">g</text>\n<polyline fill=\"none\" stroke=\"black\" points=\"956,-27.5 956,-63.5 \"/>\n<text text-anchor=\"middle\" x=\"998.5\" y=\"-41.8\" font-family=\"Times,serif\" font-size=\"14.00\">data &#45;1.5000</text>\n<polyline fill=\"none\" stroke=\"black\" points=\"1041,-27.5 1041,-63.5 \"/>\n<text text-anchor=\"middle\" x=\"1082\" y=\"-41.8\" font-family=\"Times,serif\" font-size=\"14.00\">grad 0.0000</text>\n</g>\n<!-- 133436248837280&#45; -->\n<g id=\"node2\" class=\"node\">\n<title>133436248837280&#45;</title>\n<ellipse fill=\"none\" stroke=\"black\" cx=\"870\" cy=\"-45.5\" rx=\"27\" ry=\"18\"/>\n<text text-anchor=\"middle\" x=\"870\" y=\"-41.8\" font-family=\"Times,serif\" font-size=\"14.00\">&#45;</text>\n</g>\n<!-- 133436248837280&#45;&#45;&gt;133436248837280 -->\n<g id=\"edge1\" class=\"edge\">\n<title>133436248837280&#45;&#45;&gt;133436248837280</title>\n<path fill=\"none\" stroke=\"black\" d=\"M897.11,-45.5C904.63,-45.5 913.32,-45.5 922.58,-45.5\"/>\n<polygon fill=\"black\" stroke=\"black\" points=\"922.81,-49 932.81,-45.5 922.81,-42 922.81,-49\"/>\n</g>\n<!-- 133436248841936 -->\n<g id=\"node3\" class=\"node\">\n<title>133436248841936</title>\n<polygon fill=\"none\" stroke=\"black\" points=\"622,-55.5 622,-91.5 807,-91.5 807,-55.5 622,-55.5\"/>\n<text text-anchor=\"middle\" x=\"633.5\" y=\"-69.8\" font-family=\"Times,serif\" font-size=\"14.00\">e</text>\n<polyline fill=\"none\" stroke=\"black\" points=\"645,-55.5 645,-91.5 \"/>\n<text text-anchor=\"middle\" x=\"685\" y=\"-69.8\" font-family=\"Times,serif\" font-size=\"14.00\">data 3.5000</text>\n<polyline fill=\"none\" stroke=\"black\" points=\"725,-55.5 725,-91.5 \"/>\n<text text-anchor=\"middle\" x=\"766\" y=\"-69.8\" font-family=\"Times,serif\" font-size=\"14.00\">grad 0.0000</text>\n</g>\n<!-- 133436248841936&#45;&gt;133436248837280&#45; -->\n<g id=\"edge7\" class=\"edge\">\n<title>133436248841936&#45;&gt;133436248837280&#45;</title>\n<path fill=\"none\" stroke=\"black\" d=\"M807.01,-56.81C816.49,-55.08 825.66,-53.41 833.9,-51.9\"/>\n<polygon fill=\"black\" stroke=\"black\" points=\"834.6,-55.33 843.81,-50.09 833.35,-48.45 834.6,-55.33\"/>\n</g>\n<!-- 133436248841936/ -->\n<g id=\"node4\" class=\"node\">\n<title>133436248841936/</title>\n<ellipse fill=\"none\" stroke=\"black\" cx=\"559\" cy=\"-73.5\" rx=\"27\" ry=\"18\"/>\n<text text-anchor=\"middle\" x=\"559\" y=\"-69.8\" font-family=\"Times,serif\" font-size=\"14.00\">/</text>\n</g>\n<!-- 133436248841936/&#45;&gt;133436248841936 -->\n<g id=\"edge2\" class=\"edge\">\n<title>133436248841936/&#45;&gt;133436248841936</title>\n<path fill=\"none\" stroke=\"black\" d=\"M586.04,-73.5C593.58,-73.5 602.3,-73.5 611.57,-73.5\"/>\n<polygon fill=\"black\" stroke=\"black\" points=\"611.81,-77 621.81,-73.5 611.81,-70 611.81,-77\"/>\n</g>\n<!-- 133436248848656 -->\n<g id=\"node5\" class=\"node\">\n<title>133436248848656</title>\n<polygon fill=\"none\" stroke=\"black\" points=\"0,-56.5 0,-92.5 185,-92.5 185,-56.5 0,-56.5\"/>\n<text text-anchor=\"middle\" x=\"11.5\" y=\"-70.8\" font-family=\"Times,serif\" font-size=\"14.00\">a</text>\n<polyline fill=\"none\" stroke=\"black\" points=\"23,-56.5 23,-92.5 \"/>\n<text text-anchor=\"middle\" x=\"63\" y=\"-70.8\" font-family=\"Times,serif\" font-size=\"14.00\">data 3.0000</text>\n<polyline fill=\"none\" stroke=\"black\" points=\"103,-56.5 103,-92.5 \"/>\n<text text-anchor=\"middle\" x=\"144\" y=\"-70.8\" font-family=\"Times,serif\" font-size=\"14.00\">grad 0.0000</text>\n</g>\n<!-- 133436248838096+ -->\n<g id=\"node9\" class=\"node\">\n<title>133436248838096+</title>\n<ellipse fill=\"none\" stroke=\"black\" cx=\"248\" cy=\"-46.5\" rx=\"27\" ry=\"18\"/>\n<text text-anchor=\"middle\" x=\"248\" y=\"-42.8\" font-family=\"Times,serif\" font-size=\"14.00\">+</text>\n</g>\n<!-- 133436248848656&#45;&gt;133436248838096+ -->\n<g id=\"edge4\" class=\"edge\">\n<title>133436248848656&#45;&gt;133436248838096+</title>\n<path fill=\"none\" stroke=\"black\" d=\"M185.01,-57.81C194.49,-56.08 203.66,-54.41 211.9,-52.9\"/>\n<polygon fill=\"black\" stroke=\"black\" points=\"212.6,-56.33 221.81,-51.09 211.35,-49.45 212.6,-56.33\"/>\n</g>\n<!-- 133436248842512 -->\n<g id=\"node6\" class=\"node\">\n<title>133436248842512</title>\n<polygon fill=\"none\" stroke=\"black\" points=\"311,-83.5 311,-119.5 496,-119.5 496,-83.5 311,-83.5\"/>\n<text text-anchor=\"middle\" x=\"322.5\" y=\"-97.8\" font-family=\"Times,serif\" font-size=\"14.00\">c</text>\n<polyline fill=\"none\" stroke=\"black\" points=\"334,-83.5 334,-119.5 \"/>\n<text text-anchor=\"middle\" x=\"374\" y=\"-97.8\" font-family=\"Times,serif\" font-size=\"14.00\">data 2.0000</text>\n<polyline fill=\"none\" stroke=\"black\" points=\"414,-83.5 414,-119.5 \"/>\n<text text-anchor=\"middle\" x=\"455\" y=\"-97.8\" font-family=\"Times,serif\" font-size=\"14.00\">grad 0.0000</text>\n</g>\n<!-- 133436248842512&#45;&gt;133436248841936/ -->\n<g id=\"edge5\" class=\"edge\">\n<title>133436248842512&#45;&gt;133436248841936/</title>\n<path fill=\"none\" stroke=\"black\" d=\"M496.01,-84.81C505.49,-83.08 514.66,-81.41 522.9,-79.9\"/>\n<polygon fill=\"black\" stroke=\"black\" points=\"523.6,-83.33 532.81,-78.09 522.35,-76.45 523.6,-83.33\"/>\n</g>\n<!-- 133436248842080 -->\n<g id=\"node7\" class=\"node\">\n<title>133436248842080</title>\n<polygon fill=\"none\" stroke=\"black\" points=\"623,-0.5 623,-36.5 806,-36.5 806,-0.5 623,-0.5\"/>\n<text text-anchor=\"middle\" x=\"633.5\" y=\"-14.8\" font-family=\"Times,serif\" font-size=\"14.00\">f</text>\n<polyline fill=\"none\" stroke=\"black\" points=\"644,-0.5 644,-36.5 \"/>\n<text text-anchor=\"middle\" x=\"684\" y=\"-14.8\" font-family=\"Times,serif\" font-size=\"14.00\">data 5.0000</text>\n<polyline fill=\"none\" stroke=\"black\" points=\"724,-0.5 724,-36.5 \"/>\n<text text-anchor=\"middle\" x=\"765\" y=\"-14.8\" font-family=\"Times,serif\" font-size=\"14.00\">grad 0.0000</text>\n</g>\n<!-- 133436248842080&#45;&gt;133436248837280&#45; -->\n<g id=\"edge6\" class=\"edge\">\n<title>133436248842080&#45;&gt;133436248837280&#45;</title>\n<path fill=\"none\" stroke=\"black\" d=\"M806.12,-34.44C815.8,-36.14 825.17,-37.79 833.59,-39.27\"/>\n<polygon fill=\"black\" stroke=\"black\" points=\"833.25,-42.77 843.71,-41.05 834.47,-35.87 833.25,-42.77\"/>\n</g>\n<!-- 133436248838096 -->\n<g id=\"node8\" class=\"node\">\n<title>133436248838096</title>\n<polygon fill=\"none\" stroke=\"black\" points=\"311,-28.5 311,-64.5 496,-64.5 496,-28.5 311,-28.5\"/>\n<text text-anchor=\"middle\" x=\"322.5\" y=\"-42.8\" font-family=\"Times,serif\" font-size=\"14.00\">d</text>\n<polyline fill=\"none\" stroke=\"black\" points=\"334,-28.5 334,-64.5 \"/>\n<text text-anchor=\"middle\" x=\"374\" y=\"-42.8\" font-family=\"Times,serif\" font-size=\"14.00\">data 7.0000</text>\n<polyline fill=\"none\" stroke=\"black\" points=\"414,-28.5 414,-64.5 \"/>\n<text text-anchor=\"middle\" x=\"455\" y=\"-42.8\" font-family=\"Times,serif\" font-size=\"14.00\">grad 0.0000</text>\n</g>\n<!-- 133436248838096&#45;&gt;133436248841936/ -->\n<g id=\"edge8\" class=\"edge\">\n<title>133436248838096&#45;&gt;133436248841936/</title>\n<path fill=\"none\" stroke=\"black\" d=\"M496.01,-62.6C505.49,-64.26 514.66,-65.88 522.9,-67.33\"/>\n<polygon fill=\"black\" stroke=\"black\" points=\"522.36,-70.78 532.81,-69.07 523.57,-63.89 522.36,-70.78\"/>\n</g>\n<!-- 133436248838096+&#45;&gt;133436248838096 -->\n<g id=\"edge3\" class=\"edge\">\n<title>133436248838096+&#45;&gt;133436248838096</title>\n<path fill=\"none\" stroke=\"black\" d=\"M275.04,-46.5C282.58,-46.5 291.3,-46.5 300.57,-46.5\"/>\n<polygon fill=\"black\" stroke=\"black\" points=\"300.81,-50 310.81,-46.5 300.81,-43 300.81,-50\"/>\n</g>\n<!-- 133436248847840 -->\n<g id=\"node10\" class=\"node\">\n<title>133436248847840</title>\n<polygon fill=\"none\" stroke=\"black\" points=\"0,-1.5 0,-37.5 185,-37.5 185,-1.5 0,-1.5\"/>\n<text text-anchor=\"middle\" x=\"11.5\" y=\"-15.8\" font-family=\"Times,serif\" font-size=\"14.00\">b</text>\n<polyline fill=\"none\" stroke=\"black\" points=\"23,-1.5 23,-37.5 \"/>\n<text text-anchor=\"middle\" x=\"63\" y=\"-15.8\" font-family=\"Times,serif\" font-size=\"14.00\">data 4.0000</text>\n<polyline fill=\"none\" stroke=\"black\" points=\"103,-1.5 103,-37.5 \"/>\n<text text-anchor=\"middle\" x=\"144\" y=\"-15.8\" font-family=\"Times,serif\" font-size=\"14.00\">grad 0.0000</text>\n</g>\n<!-- 133436248847840&#45;&gt;133436248838096+ -->\n<g id=\"edge9\" class=\"edge\">\n<title>133436248847840&#45;&gt;133436248838096+</title>\n<path fill=\"none\" stroke=\"black\" d=\"M185.01,-35.6C194.49,-37.26 203.66,-38.88 211.9,-40.33\"/>\n<polygon fill=\"black\" stroke=\"black\" points=\"211.36,-43.78 221.81,-42.07 212.57,-36.89 211.36,-43.78\"/>\n</g>\n</g>\n</svg>\n",
            "text/plain": [
              "<graphviz.graphs.Digraph at 0x795c0c367b80>"
            ]
          },
          "metadata": {},
          "execution_count": 28
        }
      ]
    },
    {
      "cell_type": "code",
      "source": [
        "g.grad = 1.0\n",
        "draw_graph(g)"
      ],
      "metadata": {
        "colab": {
          "base_uri": "https://localhost:8080/",
          "height": 192
        },
        "id": "2pA0-hbP73lH",
        "outputId": "6ec620d4-776a-457b-c1a1-8fd5e1b273c2"
      },
      "execution_count": 29,
      "outputs": [
        {
          "output_type": "execute_result",
          "data": {
            "image/svg+xml": "<?xml version=\"1.0\" encoding=\"UTF-8\" standalone=\"no\"?>\n<!DOCTYPE svg PUBLIC \"-//W3C//DTD SVG 1.1//EN\"\n \"http://www.w3.org/Graphics/SVG/1.1/DTD/svg11.dtd\">\n<!-- Generated by graphviz version 2.43.0 (0)\n -->\n<!-- Title: %3 Pages: 1 -->\n<svg width=\"1131pt\" height=\"128pt\"\n viewBox=\"0.00 0.00 1131.00 128.00\" xmlns=\"http://www.w3.org/2000/svg\" xmlns:xlink=\"http://www.w3.org/1999/xlink\">\n<g id=\"graph0\" class=\"graph\" transform=\"scale(1 1) rotate(0) translate(4 124)\">\n<title>%3</title>\n<polygon fill=\"white\" stroke=\"transparent\" points=\"-4,4 -4,-124 1127,-124 1127,4 -4,4\"/>\n<!-- 133436248837280 -->\n<g id=\"node1\" class=\"node\">\n<title>133436248837280</title>\n<polygon fill=\"none\" stroke=\"black\" points=\"933,-27.5 933,-63.5 1123,-63.5 1123,-27.5 933,-27.5\"/>\n<text text-anchor=\"middle\" x=\"944.5\" y=\"-41.8\" font-family=\"Times,serif\" font-size=\"14.00\">g</text>\n<polyline fill=\"none\" stroke=\"black\" points=\"956,-27.5 956,-63.5 \"/>\n<text text-anchor=\"middle\" x=\"998.5\" y=\"-41.8\" font-family=\"Times,serif\" font-size=\"14.00\">data &#45;1.5000</text>\n<polyline fill=\"none\" stroke=\"black\" points=\"1041,-27.5 1041,-63.5 \"/>\n<text text-anchor=\"middle\" x=\"1082\" y=\"-41.8\" font-family=\"Times,serif\" font-size=\"14.00\">grad 1.0000</text>\n</g>\n<!-- 133436248837280&#45; -->\n<g id=\"node2\" class=\"node\">\n<title>133436248837280&#45;</title>\n<ellipse fill=\"none\" stroke=\"black\" cx=\"870\" cy=\"-45.5\" rx=\"27\" ry=\"18\"/>\n<text text-anchor=\"middle\" x=\"870\" y=\"-41.8\" font-family=\"Times,serif\" font-size=\"14.00\">&#45;</text>\n</g>\n<!-- 133436248837280&#45;&#45;&gt;133436248837280 -->\n<g id=\"edge1\" class=\"edge\">\n<title>133436248837280&#45;&#45;&gt;133436248837280</title>\n<path fill=\"none\" stroke=\"black\" d=\"M897.11,-45.5C904.63,-45.5 913.32,-45.5 922.58,-45.5\"/>\n<polygon fill=\"black\" stroke=\"black\" points=\"922.81,-49 932.81,-45.5 922.81,-42 922.81,-49\"/>\n</g>\n<!-- 133436248841936 -->\n<g id=\"node3\" class=\"node\">\n<title>133436248841936</title>\n<polygon fill=\"none\" stroke=\"black\" points=\"622,-55.5 622,-91.5 807,-91.5 807,-55.5 622,-55.5\"/>\n<text text-anchor=\"middle\" x=\"633.5\" y=\"-69.8\" font-family=\"Times,serif\" font-size=\"14.00\">e</text>\n<polyline fill=\"none\" stroke=\"black\" points=\"645,-55.5 645,-91.5 \"/>\n<text text-anchor=\"middle\" x=\"685\" y=\"-69.8\" font-family=\"Times,serif\" font-size=\"14.00\">data 3.5000</text>\n<polyline fill=\"none\" stroke=\"black\" points=\"725,-55.5 725,-91.5 \"/>\n<text text-anchor=\"middle\" x=\"766\" y=\"-69.8\" font-family=\"Times,serif\" font-size=\"14.00\">grad 0.0000</text>\n</g>\n<!-- 133436248841936&#45;&gt;133436248837280&#45; -->\n<g id=\"edge7\" class=\"edge\">\n<title>133436248841936&#45;&gt;133436248837280&#45;</title>\n<path fill=\"none\" stroke=\"black\" d=\"M807.01,-56.81C816.49,-55.08 825.66,-53.41 833.9,-51.9\"/>\n<polygon fill=\"black\" stroke=\"black\" points=\"834.6,-55.33 843.81,-50.09 833.35,-48.45 834.6,-55.33\"/>\n</g>\n<!-- 133436248841936/ -->\n<g id=\"node4\" class=\"node\">\n<title>133436248841936/</title>\n<ellipse fill=\"none\" stroke=\"black\" cx=\"559\" cy=\"-73.5\" rx=\"27\" ry=\"18\"/>\n<text text-anchor=\"middle\" x=\"559\" y=\"-69.8\" font-family=\"Times,serif\" font-size=\"14.00\">/</text>\n</g>\n<!-- 133436248841936/&#45;&gt;133436248841936 -->\n<g id=\"edge2\" class=\"edge\">\n<title>133436248841936/&#45;&gt;133436248841936</title>\n<path fill=\"none\" stroke=\"black\" d=\"M586.04,-73.5C593.58,-73.5 602.3,-73.5 611.57,-73.5\"/>\n<polygon fill=\"black\" stroke=\"black\" points=\"611.81,-77 621.81,-73.5 611.81,-70 611.81,-77\"/>\n</g>\n<!-- 133436248848656 -->\n<g id=\"node5\" class=\"node\">\n<title>133436248848656</title>\n<polygon fill=\"none\" stroke=\"black\" points=\"0,-56.5 0,-92.5 185,-92.5 185,-56.5 0,-56.5\"/>\n<text text-anchor=\"middle\" x=\"11.5\" y=\"-70.8\" font-family=\"Times,serif\" font-size=\"14.00\">a</text>\n<polyline fill=\"none\" stroke=\"black\" points=\"23,-56.5 23,-92.5 \"/>\n<text text-anchor=\"middle\" x=\"63\" y=\"-70.8\" font-family=\"Times,serif\" font-size=\"14.00\">data 3.0000</text>\n<polyline fill=\"none\" stroke=\"black\" points=\"103,-56.5 103,-92.5 \"/>\n<text text-anchor=\"middle\" x=\"144\" y=\"-70.8\" font-family=\"Times,serif\" font-size=\"14.00\">grad 0.0000</text>\n</g>\n<!-- 133436248838096+ -->\n<g id=\"node9\" class=\"node\">\n<title>133436248838096+</title>\n<ellipse fill=\"none\" stroke=\"black\" cx=\"248\" cy=\"-46.5\" rx=\"27\" ry=\"18\"/>\n<text text-anchor=\"middle\" x=\"248\" y=\"-42.8\" font-family=\"Times,serif\" font-size=\"14.00\">+</text>\n</g>\n<!-- 133436248848656&#45;&gt;133436248838096+ -->\n<g id=\"edge4\" class=\"edge\">\n<title>133436248848656&#45;&gt;133436248838096+</title>\n<path fill=\"none\" stroke=\"black\" d=\"M185.01,-57.81C194.49,-56.08 203.66,-54.41 211.9,-52.9\"/>\n<polygon fill=\"black\" stroke=\"black\" points=\"212.6,-56.33 221.81,-51.09 211.35,-49.45 212.6,-56.33\"/>\n</g>\n<!-- 133436248842512 -->\n<g id=\"node6\" class=\"node\">\n<title>133436248842512</title>\n<polygon fill=\"none\" stroke=\"black\" points=\"311,-83.5 311,-119.5 496,-119.5 496,-83.5 311,-83.5\"/>\n<text text-anchor=\"middle\" x=\"322.5\" y=\"-97.8\" font-family=\"Times,serif\" font-size=\"14.00\">c</text>\n<polyline fill=\"none\" stroke=\"black\" points=\"334,-83.5 334,-119.5 \"/>\n<text text-anchor=\"middle\" x=\"374\" y=\"-97.8\" font-family=\"Times,serif\" font-size=\"14.00\">data 2.0000</text>\n<polyline fill=\"none\" stroke=\"black\" points=\"414,-83.5 414,-119.5 \"/>\n<text text-anchor=\"middle\" x=\"455\" y=\"-97.8\" font-family=\"Times,serif\" font-size=\"14.00\">grad 0.0000</text>\n</g>\n<!-- 133436248842512&#45;&gt;133436248841936/ -->\n<g id=\"edge5\" class=\"edge\">\n<title>133436248842512&#45;&gt;133436248841936/</title>\n<path fill=\"none\" stroke=\"black\" d=\"M496.01,-84.81C505.49,-83.08 514.66,-81.41 522.9,-79.9\"/>\n<polygon fill=\"black\" stroke=\"black\" points=\"523.6,-83.33 532.81,-78.09 522.35,-76.45 523.6,-83.33\"/>\n</g>\n<!-- 133436248842080 -->\n<g id=\"node7\" class=\"node\">\n<title>133436248842080</title>\n<polygon fill=\"none\" stroke=\"black\" points=\"623,-0.5 623,-36.5 806,-36.5 806,-0.5 623,-0.5\"/>\n<text text-anchor=\"middle\" x=\"633.5\" y=\"-14.8\" font-family=\"Times,serif\" font-size=\"14.00\">f</text>\n<polyline fill=\"none\" stroke=\"black\" points=\"644,-0.5 644,-36.5 \"/>\n<text text-anchor=\"middle\" x=\"684\" y=\"-14.8\" font-family=\"Times,serif\" font-size=\"14.00\">data 5.0000</text>\n<polyline fill=\"none\" stroke=\"black\" points=\"724,-0.5 724,-36.5 \"/>\n<text text-anchor=\"middle\" x=\"765\" y=\"-14.8\" font-family=\"Times,serif\" font-size=\"14.00\">grad 0.0000</text>\n</g>\n<!-- 133436248842080&#45;&gt;133436248837280&#45; -->\n<g id=\"edge6\" class=\"edge\">\n<title>133436248842080&#45;&gt;133436248837280&#45;</title>\n<path fill=\"none\" stroke=\"black\" d=\"M806.12,-34.44C815.8,-36.14 825.17,-37.79 833.59,-39.27\"/>\n<polygon fill=\"black\" stroke=\"black\" points=\"833.25,-42.77 843.71,-41.05 834.47,-35.87 833.25,-42.77\"/>\n</g>\n<!-- 133436248838096 -->\n<g id=\"node8\" class=\"node\">\n<title>133436248838096</title>\n<polygon fill=\"none\" stroke=\"black\" points=\"311,-28.5 311,-64.5 496,-64.5 496,-28.5 311,-28.5\"/>\n<text text-anchor=\"middle\" x=\"322.5\" y=\"-42.8\" font-family=\"Times,serif\" font-size=\"14.00\">d</text>\n<polyline fill=\"none\" stroke=\"black\" points=\"334,-28.5 334,-64.5 \"/>\n<text text-anchor=\"middle\" x=\"374\" y=\"-42.8\" font-family=\"Times,serif\" font-size=\"14.00\">data 7.0000</text>\n<polyline fill=\"none\" stroke=\"black\" points=\"414,-28.5 414,-64.5 \"/>\n<text text-anchor=\"middle\" x=\"455\" y=\"-42.8\" font-family=\"Times,serif\" font-size=\"14.00\">grad 0.0000</text>\n</g>\n<!-- 133436248838096&#45;&gt;133436248841936/ -->\n<g id=\"edge8\" class=\"edge\">\n<title>133436248838096&#45;&gt;133436248841936/</title>\n<path fill=\"none\" stroke=\"black\" d=\"M496.01,-62.6C505.49,-64.26 514.66,-65.88 522.9,-67.33\"/>\n<polygon fill=\"black\" stroke=\"black\" points=\"522.36,-70.78 532.81,-69.07 523.57,-63.89 522.36,-70.78\"/>\n</g>\n<!-- 133436248838096+&#45;&gt;133436248838096 -->\n<g id=\"edge3\" class=\"edge\">\n<title>133436248838096+&#45;&gt;133436248838096</title>\n<path fill=\"none\" stroke=\"black\" d=\"M275.04,-46.5C282.58,-46.5 291.3,-46.5 300.57,-46.5\"/>\n<polygon fill=\"black\" stroke=\"black\" points=\"300.81,-50 310.81,-46.5 300.81,-43 300.81,-50\"/>\n</g>\n<!-- 133436248847840 -->\n<g id=\"node10\" class=\"node\">\n<title>133436248847840</title>\n<polygon fill=\"none\" stroke=\"black\" points=\"0,-1.5 0,-37.5 185,-37.5 185,-1.5 0,-1.5\"/>\n<text text-anchor=\"middle\" x=\"11.5\" y=\"-15.8\" font-family=\"Times,serif\" font-size=\"14.00\">b</text>\n<polyline fill=\"none\" stroke=\"black\" points=\"23,-1.5 23,-37.5 \"/>\n<text text-anchor=\"middle\" x=\"63\" y=\"-15.8\" font-family=\"Times,serif\" font-size=\"14.00\">data 4.0000</text>\n<polyline fill=\"none\" stroke=\"black\" points=\"103,-1.5 103,-37.5 \"/>\n<text text-anchor=\"middle\" x=\"144\" y=\"-15.8\" font-family=\"Times,serif\" font-size=\"14.00\">grad 0.0000</text>\n</g>\n<!-- 133436248847840&#45;&gt;133436248838096+ -->\n<g id=\"edge9\" class=\"edge\">\n<title>133436248847840&#45;&gt;133436248838096+</title>\n<path fill=\"none\" stroke=\"black\" d=\"M185.01,-35.6C194.49,-37.26 203.66,-38.88 211.9,-40.33\"/>\n<polygon fill=\"black\" stroke=\"black\" points=\"211.36,-43.78 221.81,-42.07 212.57,-36.89 211.36,-43.78\"/>\n</g>\n</g>\n</svg>\n",
            "text/plain": [
              "<graphviz.graphs.Digraph at 0x795c0c3678b0>"
            ]
          },
          "metadata": {},
          "execution_count": 29
        }
      ]
    },
    {
      "cell_type": "code",
      "source": [
        "backprop(g)\n",
        "draw_graph(g)"
      ],
      "metadata": {
        "colab": {
          "base_uri": "https://localhost:8080/",
          "height": 192
        },
        "id": "8WefS_1CGuK8",
        "outputId": "624b447d-88ad-4904-ad57-e0ba8247ef12"
      },
      "execution_count": 30,
      "outputs": [
        {
          "output_type": "execute_result",
          "data": {
            "image/svg+xml": "<?xml version=\"1.0\" encoding=\"UTF-8\" standalone=\"no\"?>\n<!DOCTYPE svg PUBLIC \"-//W3C//DTD SVG 1.1//EN\"\n \"http://www.w3.org/Graphics/SVG/1.1/DTD/svg11.dtd\">\n<!-- Generated by graphviz version 2.43.0 (0)\n -->\n<!-- Title: %3 Pages: 1 -->\n<svg width=\"1137pt\" height=\"128pt\"\n viewBox=\"0.00 0.00 1137.00 128.00\" xmlns=\"http://www.w3.org/2000/svg\" xmlns:xlink=\"http://www.w3.org/1999/xlink\">\n<g id=\"graph0\" class=\"graph\" transform=\"scale(1 1) rotate(0) translate(4 124)\">\n<title>%3</title>\n<polygon fill=\"white\" stroke=\"transparent\" points=\"-4,4 -4,-124 1133,-124 1133,4 -4,4\"/>\n<!-- 133436248837280 -->\n<g id=\"node1\" class=\"node\">\n<title>133436248837280</title>\n<polygon fill=\"none\" stroke=\"black\" points=\"939,-27.5 939,-63.5 1129,-63.5 1129,-27.5 939,-27.5\"/>\n<text text-anchor=\"middle\" x=\"950.5\" y=\"-41.8\" font-family=\"Times,serif\" font-size=\"14.00\">g</text>\n<polyline fill=\"none\" stroke=\"black\" points=\"962,-27.5 962,-63.5 \"/>\n<text text-anchor=\"middle\" x=\"1004.5\" y=\"-41.8\" font-family=\"Times,serif\" font-size=\"14.00\">data &#45;1.5000</text>\n<polyline fill=\"none\" stroke=\"black\" points=\"1047,-27.5 1047,-63.5 \"/>\n<text text-anchor=\"middle\" x=\"1088\" y=\"-41.8\" font-family=\"Times,serif\" font-size=\"14.00\">grad 1.0000</text>\n</g>\n<!-- 133436248837280&#45; -->\n<g id=\"node2\" class=\"node\">\n<title>133436248837280&#45;</title>\n<ellipse fill=\"none\" stroke=\"black\" cx=\"876\" cy=\"-45.5\" rx=\"27\" ry=\"18\"/>\n<text text-anchor=\"middle\" x=\"876\" y=\"-41.8\" font-family=\"Times,serif\" font-size=\"14.00\">&#45;</text>\n</g>\n<!-- 133436248837280&#45;&#45;&gt;133436248837280 -->\n<g id=\"edge1\" class=\"edge\">\n<title>133436248837280&#45;&#45;&gt;133436248837280</title>\n<path fill=\"none\" stroke=\"black\" d=\"M903.11,-45.5C910.63,-45.5 919.32,-45.5 928.58,-45.5\"/>\n<polygon fill=\"black\" stroke=\"black\" points=\"928.81,-49 938.81,-45.5 928.81,-42 928.81,-49\"/>\n</g>\n<!-- 133436248841936 -->\n<g id=\"node3\" class=\"node\">\n<title>133436248841936</title>\n<polygon fill=\"none\" stroke=\"black\" points=\"627,-55.5 627,-91.5 812,-91.5 812,-55.5 627,-55.5\"/>\n<text text-anchor=\"middle\" x=\"638.5\" y=\"-69.8\" font-family=\"Times,serif\" font-size=\"14.00\">e</text>\n<polyline fill=\"none\" stroke=\"black\" points=\"650,-55.5 650,-91.5 \"/>\n<text text-anchor=\"middle\" x=\"690\" y=\"-69.8\" font-family=\"Times,serif\" font-size=\"14.00\">data 3.5000</text>\n<polyline fill=\"none\" stroke=\"black\" points=\"730,-55.5 730,-91.5 \"/>\n<text text-anchor=\"middle\" x=\"771\" y=\"-69.8\" font-family=\"Times,serif\" font-size=\"14.00\">grad 1.0000</text>\n</g>\n<!-- 133436248841936&#45;&gt;133436248837280&#45; -->\n<g id=\"edge7\" class=\"edge\">\n<title>133436248841936&#45;&gt;133436248837280&#45;</title>\n<path fill=\"none\" stroke=\"black\" d=\"M812.16,-56.89C821.84,-55.13 831.22,-53.43 839.64,-51.91\"/>\n<polygon fill=\"black\" stroke=\"black\" points=\"840.53,-55.3 849.75,-50.08 839.28,-48.42 840.53,-55.3\"/>\n</g>\n<!-- 133436248841936/ -->\n<g id=\"node4\" class=\"node\">\n<title>133436248841936/</title>\n<ellipse fill=\"none\" stroke=\"black\" cx=\"563\" cy=\"-73.5\" rx=\"27\" ry=\"18\"/>\n<text text-anchor=\"middle\" x=\"563\" y=\"-69.8\" font-family=\"Times,serif\" font-size=\"14.00\">/</text>\n</g>\n<!-- 133436248841936/&#45;&gt;133436248841936 -->\n<g id=\"edge2\" class=\"edge\">\n<title>133436248841936/&#45;&gt;133436248841936</title>\n<path fill=\"none\" stroke=\"black\" d=\"M590.21,-73.5C598,-73.5 607.05,-73.5 616.67,-73.5\"/>\n<polygon fill=\"black\" stroke=\"black\" points=\"616.87,-77 626.87,-73.5 616.87,-70 616.87,-77\"/>\n</g>\n<!-- 133436248848656 -->\n<g id=\"node5\" class=\"node\">\n<title>133436248848656</title>\n<polygon fill=\"none\" stroke=\"black\" points=\"0,-56.5 0,-92.5 185,-92.5 185,-56.5 0,-56.5\"/>\n<text text-anchor=\"middle\" x=\"11.5\" y=\"-70.8\" font-family=\"Times,serif\" font-size=\"14.00\">a</text>\n<polyline fill=\"none\" stroke=\"black\" points=\"23,-56.5 23,-92.5 \"/>\n<text text-anchor=\"middle\" x=\"63\" y=\"-70.8\" font-family=\"Times,serif\" font-size=\"14.00\">data 3.0000</text>\n<polyline fill=\"none\" stroke=\"black\" points=\"103,-56.5 103,-92.5 \"/>\n<text text-anchor=\"middle\" x=\"144\" y=\"-70.8\" font-family=\"Times,serif\" font-size=\"14.00\">grad 0.5000</text>\n</g>\n<!-- 133436248838096+ -->\n<g id=\"node9\" class=\"node\">\n<title>133436248838096+</title>\n<ellipse fill=\"none\" stroke=\"black\" cx=\"248\" cy=\"-46.5\" rx=\"27\" ry=\"18\"/>\n<text text-anchor=\"middle\" x=\"248\" y=\"-42.8\" font-family=\"Times,serif\" font-size=\"14.00\">+</text>\n</g>\n<!-- 133436248848656&#45;&gt;133436248838096+ -->\n<g id=\"edge4\" class=\"edge\">\n<title>133436248848656&#45;&gt;133436248838096+</title>\n<path fill=\"none\" stroke=\"black\" d=\"M185.01,-57.81C194.49,-56.08 203.66,-54.41 211.9,-52.9\"/>\n<polygon fill=\"black\" stroke=\"black\" points=\"212.6,-56.33 221.81,-51.09 211.35,-49.45 212.6,-56.33\"/>\n</g>\n<!-- 133436248842512 -->\n<g id=\"node6\" class=\"node\">\n<title>133436248842512</title>\n<polygon fill=\"none\" stroke=\"black\" points=\"311,-83.5 311,-119.5 500,-119.5 500,-83.5 311,-83.5\"/>\n<text text-anchor=\"middle\" x=\"322.5\" y=\"-97.8\" font-family=\"Times,serif\" font-size=\"14.00\">c</text>\n<polyline fill=\"none\" stroke=\"black\" points=\"334,-83.5 334,-119.5 \"/>\n<text text-anchor=\"middle\" x=\"374\" y=\"-97.8\" font-family=\"Times,serif\" font-size=\"14.00\">data 2.0000</text>\n<polyline fill=\"none\" stroke=\"black\" points=\"414,-83.5 414,-119.5 \"/>\n<text text-anchor=\"middle\" x=\"457\" y=\"-97.8\" font-family=\"Times,serif\" font-size=\"14.00\">grad &#45;1.7500</text>\n</g>\n<!-- 133436248842512&#45;&gt;133436248841936/ -->\n<g id=\"edge5\" class=\"edge\">\n<title>133436248842512&#45;&gt;133436248841936/</title>\n<path fill=\"none\" stroke=\"black\" d=\"M500.1,-84.65C509.4,-82.97 518.38,-81.35 526.49,-79.89\"/>\n<polygon fill=\"black\" stroke=\"black\" points=\"527.37,-83.29 536.59,-78.07 526.13,-76.4 527.37,-83.29\"/>\n</g>\n<!-- 133436248842080 -->\n<g id=\"node7\" class=\"node\">\n<title>133436248842080</title>\n<polygon fill=\"none\" stroke=\"black\" points=\"626,-0.5 626,-36.5 813,-36.5 813,-0.5 626,-0.5\"/>\n<text text-anchor=\"middle\" x=\"636.5\" y=\"-14.8\" font-family=\"Times,serif\" font-size=\"14.00\">f</text>\n<polyline fill=\"none\" stroke=\"black\" points=\"647,-0.5 647,-36.5 \"/>\n<text text-anchor=\"middle\" x=\"687\" y=\"-14.8\" font-family=\"Times,serif\" font-size=\"14.00\">data 5.0000</text>\n<polyline fill=\"none\" stroke=\"black\" points=\"727,-0.5 727,-36.5 \"/>\n<text text-anchor=\"middle\" x=\"770\" y=\"-14.8\" font-family=\"Times,serif\" font-size=\"14.00\">grad &#45;1.0000</text>\n</g>\n<!-- 133436248842080&#45;&gt;133436248837280&#45; -->\n<g id=\"edge6\" class=\"edge\">\n<title>133436248842080&#45;&gt;133436248837280&#45;</title>\n<path fill=\"none\" stroke=\"black\" d=\"M813.05,-34.67C822.34,-36.3 831.33,-37.87 839.44,-39.29\"/>\n<polygon fill=\"black\" stroke=\"black\" points=\"839.1,-42.78 849.55,-41.05 840.3,-35.88 839.1,-42.78\"/>\n</g>\n<!-- 133436248838096 -->\n<g id=\"node8\" class=\"node\">\n<title>133436248838096</title>\n<polygon fill=\"none\" stroke=\"black\" points=\"313,-28.5 313,-64.5 498,-64.5 498,-28.5 313,-28.5\"/>\n<text text-anchor=\"middle\" x=\"324.5\" y=\"-42.8\" font-family=\"Times,serif\" font-size=\"14.00\">d</text>\n<polyline fill=\"none\" stroke=\"black\" points=\"336,-28.5 336,-64.5 \"/>\n<text text-anchor=\"middle\" x=\"376\" y=\"-42.8\" font-family=\"Times,serif\" font-size=\"14.00\">data 7.0000</text>\n<polyline fill=\"none\" stroke=\"black\" points=\"416,-28.5 416,-64.5 \"/>\n<text text-anchor=\"middle\" x=\"457\" y=\"-42.8\" font-family=\"Times,serif\" font-size=\"14.00\">grad 0.5000</text>\n</g>\n<!-- 133436248838096&#45;&gt;133436248841936/ -->\n<g id=\"edge8\" class=\"edge\">\n<title>133436248838096&#45;&gt;133436248841936/</title>\n<path fill=\"none\" stroke=\"black\" d=\"M498.3,-62.44C508.31,-64.18 517.99,-65.86 526.66,-67.36\"/>\n<polygon fill=\"black\" stroke=\"black\" points=\"526.23,-70.84 536.69,-69.1 527.43,-63.95 526.23,-70.84\"/>\n</g>\n<!-- 133436248838096+&#45;&gt;133436248838096 -->\n<g id=\"edge3\" class=\"edge\">\n<title>133436248838096+&#45;&gt;133436248838096</title>\n<path fill=\"none\" stroke=\"black\" d=\"M275.03,-46.5C283.13,-46.5 292.61,-46.5 302.69,-46.5\"/>\n<polygon fill=\"black\" stroke=\"black\" points=\"302.93,-50 312.93,-46.5 302.93,-43 302.93,-50\"/>\n</g>\n<!-- 133436248847840 -->\n<g id=\"node10\" class=\"node\">\n<title>133436248847840</title>\n<polygon fill=\"none\" stroke=\"black\" points=\"0,-1.5 0,-37.5 185,-37.5 185,-1.5 0,-1.5\"/>\n<text text-anchor=\"middle\" x=\"11.5\" y=\"-15.8\" font-family=\"Times,serif\" font-size=\"14.00\">b</text>\n<polyline fill=\"none\" stroke=\"black\" points=\"23,-1.5 23,-37.5 \"/>\n<text text-anchor=\"middle\" x=\"63\" y=\"-15.8\" font-family=\"Times,serif\" font-size=\"14.00\">data 4.0000</text>\n<polyline fill=\"none\" stroke=\"black\" points=\"103,-1.5 103,-37.5 \"/>\n<text text-anchor=\"middle\" x=\"144\" y=\"-15.8\" font-family=\"Times,serif\" font-size=\"14.00\">grad 0.5000</text>\n</g>\n<!-- 133436248847840&#45;&gt;133436248838096+ -->\n<g id=\"edge9\" class=\"edge\">\n<title>133436248847840&#45;&gt;133436248838096+</title>\n<path fill=\"none\" stroke=\"black\" d=\"M185.01,-35.6C194.49,-37.26 203.66,-38.88 211.9,-40.33\"/>\n<polygon fill=\"black\" stroke=\"black\" points=\"211.36,-43.78 221.81,-42.07 212.57,-36.89 211.36,-43.78\"/>\n</g>\n</g>\n</svg>\n",
            "text/plain": [
              "<graphviz.graphs.Digraph at 0x795c0c3646d0>"
            ]
          },
          "metadata": {},
          "execution_count": 30
        }
      ]
    },
    {
      "cell_type": "code",
      "source": [],
      "metadata": {
        "id": "ie7LpphiKhK7"
      },
      "execution_count": 16,
      "outputs": []
    }
  ]
}