{
  "nbformat": 4,
  "nbformat_minor": 0,
  "metadata": {
    "colab": {
      "provenance": [],
      "authorship_tag": "ABX9TyOfAlCkCjhCZJjybgA8GqPt",
      "include_colab_link": true
    },
    "kernelspec": {
      "name": "python3",
      "display_name": "Python 3"
    },
    "language_info": {
      "name": "python"
    }
  },
  "cells": [
    {
      "cell_type": "markdown",
      "metadata": {
        "id": "view-in-github",
        "colab_type": "text"
      },
      "source": [
        "<a href=\"https://colab.research.google.com/github/grand-cat-unknown/backprop-from-scratch/blob/main/AndreJ_Zero_To_Hero_Backprop.ipynb\" target=\"_parent\"><img src=\"https://colab.research.google.com/assets/colab-badge.svg\" alt=\"Open In Colab\"/></a>"
      ]
    },
    {
      "cell_type": "code",
      "execution_count": 16,
      "metadata": {
        "id": "4NnUluoKeoX7"
      },
      "outputs": [],
      "source": [
        "import math\n",
        "import numpy as np\n",
        "import matplotlib.pyplot as plt\n",
        "%matplotlib inline"
      ]
    },
    {
      "cell_type": "code",
      "source": [
        "def f(x):\n",
        "  return x**3 - 5*x + 7"
      ],
      "metadata": {
        "id": "f2G1-lqYgHXZ"
      },
      "execution_count": 17,
      "outputs": []
    },
    {
      "cell_type": "code",
      "source": [
        "x_range = np.arange(-5,5, 0.1)\n",
        "print(x_range)\n",
        "print(type(x_range))"
      ],
      "metadata": {
        "colab": {
          "base_uri": "https://localhost:8080/"
        },
        "id": "GaQZ2xXigNHv",
        "outputId": "be8007c3-e1ab-44bc-d45b-a48785ed65fc"
      },
      "execution_count": 18,
      "outputs": [
        {
          "output_type": "stream",
          "name": "stdout",
          "text": [
            "[-5.00000000e+00 -4.90000000e+00 -4.80000000e+00 -4.70000000e+00\n",
            " -4.60000000e+00 -4.50000000e+00 -4.40000000e+00 -4.30000000e+00\n",
            " -4.20000000e+00 -4.10000000e+00 -4.00000000e+00 -3.90000000e+00\n",
            " -3.80000000e+00 -3.70000000e+00 -3.60000000e+00 -3.50000000e+00\n",
            " -3.40000000e+00 -3.30000000e+00 -3.20000000e+00 -3.10000000e+00\n",
            " -3.00000000e+00 -2.90000000e+00 -2.80000000e+00 -2.70000000e+00\n",
            " -2.60000000e+00 -2.50000000e+00 -2.40000000e+00 -2.30000000e+00\n",
            " -2.20000000e+00 -2.10000000e+00 -2.00000000e+00 -1.90000000e+00\n",
            " -1.80000000e+00 -1.70000000e+00 -1.60000000e+00 -1.50000000e+00\n",
            " -1.40000000e+00 -1.30000000e+00 -1.20000000e+00 -1.10000000e+00\n",
            " -1.00000000e+00 -9.00000000e-01 -8.00000000e-01 -7.00000000e-01\n",
            " -6.00000000e-01 -5.00000000e-01 -4.00000000e-01 -3.00000000e-01\n",
            " -2.00000000e-01 -1.00000000e-01 -1.77635684e-14  1.00000000e-01\n",
            "  2.00000000e-01  3.00000000e-01  4.00000000e-01  5.00000000e-01\n",
            "  6.00000000e-01  7.00000000e-01  8.00000000e-01  9.00000000e-01\n",
            "  1.00000000e+00  1.10000000e+00  1.20000000e+00  1.30000000e+00\n",
            "  1.40000000e+00  1.50000000e+00  1.60000000e+00  1.70000000e+00\n",
            "  1.80000000e+00  1.90000000e+00  2.00000000e+00  2.10000000e+00\n",
            "  2.20000000e+00  2.30000000e+00  2.40000000e+00  2.50000000e+00\n",
            "  2.60000000e+00  2.70000000e+00  2.80000000e+00  2.90000000e+00\n",
            "  3.00000000e+00  3.10000000e+00  3.20000000e+00  3.30000000e+00\n",
            "  3.40000000e+00  3.50000000e+00  3.60000000e+00  3.70000000e+00\n",
            "  3.80000000e+00  3.90000000e+00  4.00000000e+00  4.10000000e+00\n",
            "  4.20000000e+00  4.30000000e+00  4.40000000e+00  4.50000000e+00\n",
            "  4.60000000e+00  4.70000000e+00  4.80000000e+00  4.90000000e+00]\n",
            "<class 'numpy.ndarray'>\n"
          ]
        }
      ]
    },
    {
      "cell_type": "code",
      "source": [
        "f(x_range)"
      ],
      "metadata": {
        "colab": {
          "base_uri": "https://localhost:8080/"
        },
        "id": "kt6qky6rgeas",
        "outputId": "bb31e242-ef38-4152-af78-3f41e72e33a0"
      },
      "execution_count": 19,
      "outputs": [
        {
          "output_type": "execute_result",
          "data": {
            "text/plain": [
              "array([-93.   , -86.149, -79.592, -73.323, -67.336, -61.625, -56.184,\n",
              "       -51.007, -46.088, -41.421, -37.   , -32.819, -28.872, -25.153,\n",
              "       -21.656, -18.375, -15.304, -12.437,  -9.768,  -7.291,  -5.   ,\n",
              "        -2.889,  -0.952,   0.817,   2.424,   3.875,   5.176,   6.333,\n",
              "         7.352,   8.239,   9.   ,   9.641,  10.168,  10.587,  10.904,\n",
              "        11.125,  11.256,  11.303,  11.272,  11.169,  11.   ,  10.771,\n",
              "        10.488,  10.157,   9.784,   9.375,   8.936,   8.473,   7.992,\n",
              "         7.499,   7.   ,   6.501,   6.008,   5.527,   5.064,   4.625,\n",
              "         4.216,   3.843,   3.512,   3.229,   3.   ,   2.831,   2.728,\n",
              "         2.697,   2.744,   2.875,   3.096,   3.413,   3.832,   4.359,\n",
              "         5.   ,   5.761,   6.648,   7.667,   8.824,  10.125,  11.576,\n",
              "        13.183,  14.952,  16.889,  19.   ,  21.291,  23.768,  26.437,\n",
              "        29.304,  32.375,  35.656,  39.153,  42.872,  46.819,  51.   ,\n",
              "        55.421,  60.088,  65.007,  70.184,  75.625,  81.336,  87.323,\n",
              "        93.592, 100.149])"
            ]
          },
          "metadata": {},
          "execution_count": 19
        }
      ]
    },
    {
      "cell_type": "code",
      "source": [
        "plt.plot(x_range, f(x_range))"
      ],
      "metadata": {
        "colab": {
          "base_uri": "https://localhost:8080/",
          "height": 448
        },
        "id": "2G95Cd4YgnfR",
        "outputId": "32985d09-9653-455b-b1c4-dc7a80f995e9"
      },
      "execution_count": 20,
      "outputs": [
        {
          "output_type": "execute_result",
          "data": {
            "text/plain": [
              "[<matplotlib.lines.Line2D at 0x7a3d6033ff10>]"
            ]
          },
          "metadata": {},
          "execution_count": 20
        },
        {
          "output_type": "display_data",
          "data": {
            "text/plain": [
              "<Figure size 640x480 with 1 Axes>"
            ],
            "image/png": "[encoded data removed]"
          },
          "metadata": {}
        }
      ]
    },
    {
      "cell_type": "code",
      "source": [
        "def diff_f_x(x,h):\n",
        "  return (f(x+h) - f(x))/h"
      ],
      "metadata": {
        "id": "ykYk8GUxgrii"
      },
      "execution_count": 21,
      "outputs": []
    },
    {
      "cell_type": "code",
      "source": [
        "diff_f_x(-2,0.00001)"
      ],
      "metadata": {
        "colab": {
          "base_uri": "https://localhost:8080/"
        },
        "id": "Ql1Jy_uqhmaC",
        "outputId": "40ed7f37-8de6-49db-af3e-6fb0127db7cc"
      },
      "execution_count": 22,
      "outputs": [
        {
          "output_type": "execute_result",
          "data": {
            "text/plain": [
              "6.999940000085302"
            ]
          },
          "metadata": {},
          "execution_count": 22
        }
      ]
    },
    {
      "cell_type": "code",
      "source": [
        "a = 2.0\n",
        "b = -3.0\n",
        "c = 10.0\n",
        "\n",
        "def g(a,b,c):\n",
        "  return a*b + c"
      ],
      "metadata": {
        "id": "VXaQxc4Sh2XP"
      },
      "execution_count": 23,
      "outputs": []
    },
    {
      "cell_type": "code",
      "source": [
        "h = 0.0001\n",
        "diff_g_a = (g(a+h,b,c) - g(a,b,c))/h\n",
        "diff_g_b = (g(a,b+h,c) - g(a,b,c))/h\n",
        "diff_g_c = (g(a,b,c+h) - g(a,b,c))/h"
      ],
      "metadata": {
        "id": "IuXDmgoSizX9"
      },
      "execution_count": 24,
      "outputs": []
    },
    {
      "cell_type": "code",
      "source": [
        "print(diff_g_a)\n",
        "print(diff_g_b)\n",
        "print(diff_g_c)"
      ],
      "metadata": {
        "colab": {
          "base_uri": "https://localhost:8080/"
        },
        "id": "9Zh4fWMVjPxe",
        "outputId": "90cf2606-7404-4f59-f545-110a162a8c93"
      },
      "execution_count": 25,
      "outputs": [
        {
          "output_type": "stream",
          "name": "stdout",
          "text": [
            "-3.000000000010772\n",
            "2.0000000000042206\n",
            "0.9999999999976694\n"
          ]
        }
      ]
    },
    {
      "cell_type": "markdown",
      "source": [
        "# **This is where start building micrograd!**"
      ],
      "metadata": {
        "id": "wPJ0QEDAjV0t"
      }
    },
    {
      "cell_type": "code",
      "source": [
        "from graphviz import Digraph\n",
        "def trace(root):\n",
        "  nodes, edges = set(), set()\n",
        "  def build(v):\n",
        "    if not v in nodes:\n",
        "      nodes.add(v)\n",
        "      for child in v._prev:\n",
        "        edges.add((child,v))\n",
        "        build(child)\n",
        "  build(root)\n",
        "  return nodes, edges\n",
        "\n",
        "def draw_graph(root):\n",
        "  dot = Digraph(format='svg', graph_attr={'rankdir': 'LR'})\n",
        "  nodes, edges = trace(root)\n",
        "\n",
        "  for n in nodes:\n",
        "    uid = str(id(n))\n",
        "    dot.node (name = uid, label = \"{%s | data %.4f | grad %.4f}\" % (n.label, n.data, n.grad), shape = 'record')\n",
        "\n",
        "    if n._op:\n",
        "      dot.node (name = uid + n._op, label = n._op, shape = 'oval')\n",
        "      dot.edge(uid+n._op, uid)\n",
        "\n",
        "  for e in edges:\n",
        "    dot.edge(str(id(e[0])), str(id(e[1]))+e[1]._op)\n",
        "\n",
        "  return dot"
      ],
      "metadata": {
        "id": "DLs9WP_Sk3uS"
      },
      "execution_count": 26,
      "outputs": []
    },
    {
      "cell_type": "code",
      "source": [
        "import operator\n",
        "\n",
        "\n",
        "class Value:\n",
        "    def __init__(self, data, _children=(), _op='', label = ''):\n",
        "        self.data = data\n",
        "        self.grad = 0.0\n",
        "        self._prev = list(_children)\n",
        "        self._op = _op\n",
        "        self.label = label\n",
        "        self._backward = lambda: None\n",
        "        # gradient w.r.t to the final output, not just it's parent\n",
        "\n",
        "    def __repr__(self):\n",
        "        return f\"Value(data={self.data},label={self.label})\"\n",
        "\n",
        "    def __add__(self, other):\n",
        "        other = other if isinstance(other, Value) else Value(other)\n",
        "        out = Value(self.data + other.data, (self, other), '+')\n",
        "\n",
        "        def _backward():\n",
        "            print (\"GOING BACKWARD ADDITION.\")\n",
        "            print (self)\n",
        "\n",
        "            self.grad += out.grad\n",
        "            other.grad += out.grad\n",
        "\n",
        "            print(self.grad)\n",
        "            print(other.grad)\n",
        "\n",
        "        out._backward = _backward\n",
        "\n",
        "        return out\n",
        "\n",
        "    def __radd__(self, other):\n",
        "        return self.__add__(other)\n",
        "\n",
        "    def __mul__(self, other):\n",
        "      other = other if isinstance(other, Value) else Value(other)\n",
        "      out = Value(self.data * other.data, (self, other), '*')\n",
        "\n",
        "      def _backward():\n",
        "          print (\"GOING BACKWARD MULT.\")\n",
        "          print (self)\n",
        "          self.grad += other.data * out.grad\n",
        "          other.grad += self.data * out.grad\n",
        "      out._backward = _backward\n",
        "\n",
        "      return out\n",
        "\n",
        "    def __rmul__(self, other):\n",
        "        return self.__mul__(other)\n",
        "\n",
        "    def __pow__(self, other):\n",
        "      assert isinstance(other, (int, float)), \"only supporting int/float powers for now\"\n",
        "      out = Value(self.data**other, (self,), f'**{other}')\n",
        "\n",
        "      def _backward():\n",
        "          self.grad += (other * self.data**(other-1)) * out.grad\n",
        "      out._backward = _backward\n",
        "\n",
        "      return out\n",
        "\n",
        "    def __neg__(self): # -self\n",
        "      return self * -1\n",
        "\n",
        "    def __sub__(self,other):\n",
        "      return self + (-other)\n",
        "\n",
        "    def __rsub__(self,other):\n",
        "      return (-self) + other\n",
        "\n",
        "    def __truediv__(self,other):\n",
        "      return self * (other ** -1)\n",
        "\n",
        "    def __rtruediv__(self,other):\n",
        "      return other * (self ** -1)\n",
        "\n",
        "    def tanh(self):\n",
        "      out = Value((math.exp(2*self.data) - 1) / (math.exp(2*self.data) + 1), _children= (self,), _op='tanh')\n",
        "\n",
        "      def _backward():\n",
        "          self.grad += (1 - (out.data**2))* out.grad\n",
        "      out._backward = _backward\n",
        "\n",
        "      return out\n",
        "\n",
        "    def exp(self):\n",
        "      out = Value((math.exp(self.data)), _children= (self,), _op='exp')\n",
        "\n",
        "      def _backward():\n",
        "          self.grad += (out.data) * out.grad\n",
        "      out._backward = _backward\n",
        "\n",
        "      return out\n",
        "\n",
        "    def build_reverse_topo_graph(self):\n",
        "      topo = []\n",
        "      visited = set()\n",
        "      def build_topo_recurr(v):\n",
        "        if v not in visited:\n",
        "          visited.add(v)\n",
        "          for i in v._prev:\n",
        "            build_topo_recurr(i)\n",
        "          topo.append(v)\n",
        "      build_topo_recurr(self)\n",
        "      return reversed(topo)\n",
        "\n",
        "    def backward(self):\n",
        "      self.grad = 1.0\n",
        "      nodes = self.build_reverse_topo_graph()\n",
        "      # print(list(nodes))\n",
        "      for i in nodes:\n",
        "        print(i)\n",
        "        i._backward()\n",
        "\n",
        "\n",
        "a = Value(2.0, label='a')\n",
        "b = a.exp()\n",
        "# b = a.tanh(); b.label = 'o'\n",
        "b.backward()\n",
        "draw_graph(b)"
      ],
      "metadata": {
        "colab": {
          "base_uri": "https://localhost:8080/",
          "height": 134
        },
        "id": "yXTrRrbskvsU",
        "outputId": "763c754c-3de9-458d-97d1-d674e0b89718"
      },
      "execution_count": 44,
      "outputs": [
        {
          "output_type": "stream",
          "name": "stdout",
          "text": [
            "DOING BIG BACKPROP\n",
            "Value(data=7.38905609893065,label=)\n",
            "Value(data=2.0,label=a)\n"
          ]
        },
        {
          "output_type": "execute_result",
          "data": {
            "image/svg+xml": "<?xml version=\"1.0\" encoding=\"UTF-8\" standalone=\"no\"?>\n<!DOCTYPE svg PUBLIC \"-//W3C//DTD SVG 1.1//EN\"\n \"http://www.w3.org/Graphics/SVG/1.1/DTD/svg11.dtd\">\n<!-- Generated by graphviz version 2.43.0 (0)\n -->\n<!-- Title: %3 Pages: 1 -->\n<svg width=\"501pt\" height=\"45pt\"\n viewBox=\"0.00 0.00 501.00 45.00\" xmlns=\"http://www.w3.org/2000/svg\" xmlns:xlink=\"http://www.w3.org/1999/xlink\">\n<g id=\"graph0\" class=\"graph\" transform=\"scale(1 1) rotate(0) translate(4 41)\">\n<title>%3</title>\n<polygon fill=\"white\" stroke=\"transparent\" points=\"-4,4 -4,-41 497,-41 497,4 -4,4\"/>\n<!-- 134403191830176 -->\n<g id=\"node1\" class=\"node\">\n<title>134403191830176</title>\n<polygon fill=\"none\" stroke=\"black\" points=\"311,-0.5 311,-36.5 493,-36.5 493,-0.5 311,-0.5\"/>\n<text text-anchor=\"middle\" x=\"321\" y=\"-14.8\" font-family=\"Times,serif\" font-size=\"14.00\"> </text>\n<polyline fill=\"none\" stroke=\"black\" points=\"331,-0.5 331,-36.5 \"/>\n<text text-anchor=\"middle\" x=\"371\" y=\"-14.8\" font-family=\"Times,serif\" font-size=\"14.00\">data 7.3891</text>\n<polyline fill=\"none\" stroke=\"black\" points=\"411,-0.5 411,-36.5 \"/>\n<text text-anchor=\"middle\" x=\"452\" y=\"-14.8\" font-family=\"Times,serif\" font-size=\"14.00\">grad 1.0000</text>\n</g>\n<!-- 134403191830176exp -->\n<g id=\"node2\" class=\"node\">\n<title>134403191830176exp</title>\n<ellipse fill=\"none\" stroke=\"black\" cx=\"248\" cy=\"-18.5\" rx=\"27\" ry=\"18\"/>\n<text text-anchor=\"middle\" x=\"248\" y=\"-14.8\" font-family=\"Times,serif\" font-size=\"14.00\">exp</text>\n</g>\n<!-- 134403191830176exp&#45;&gt;134403191830176 -->\n<g id=\"edge1\" class=\"edge\">\n<title>134403191830176exp&#45;&gt;134403191830176</title>\n<path fill=\"none\" stroke=\"black\" d=\"M275.13,-18.5C282.67,-18.5 291.39,-18.5 300.64,-18.5\"/>\n<polygon fill=\"black\" stroke=\"black\" points=\"300.87,-22 310.87,-18.5 300.87,-15 300.87,-22\"/>\n</g>\n<!-- 134403191828688 -->\n<g id=\"node3\" class=\"node\">\n<title>134403191828688</title>\n<polygon fill=\"none\" stroke=\"black\" points=\"0,-0.5 0,-36.5 185,-36.5 185,-0.5 0,-0.5\"/>\n<text text-anchor=\"middle\" x=\"11.5\" y=\"-14.8\" font-family=\"Times,serif\" font-size=\"14.00\">a</text>\n<polyline fill=\"none\" stroke=\"black\" points=\"23,-0.5 23,-36.5 \"/>\n<text text-anchor=\"middle\" x=\"63\" y=\"-14.8\" font-family=\"Times,serif\" font-size=\"14.00\">data 2.0000</text>\n<polyline fill=\"none\" stroke=\"black\" points=\"103,-0.5 103,-36.5 \"/>\n<text text-anchor=\"middle\" x=\"144\" y=\"-14.8\" font-family=\"Times,serif\" font-size=\"14.00\">grad 7.3891</text>\n</g>\n<!-- 134403191828688&#45;&gt;134403191830176exp -->\n<g id=\"edge2\" class=\"edge\">\n<title>134403191828688&#45;&gt;134403191830176exp</title>\n<path fill=\"none\" stroke=\"black\" d=\"M185.01,-18.5C194.01,-18.5 202.74,-18.5 210.66,-18.5\"/>\n<polygon fill=\"black\" stroke=\"black\" points=\"210.91,-22 220.91,-18.5 210.91,-15 210.91,-22\"/>\n</g>\n</g>\n</svg>\n",
            "text/plain": [
              "<graphviz.graphs.Digraph at 0x7a3d2e8176d0>"
            ]
          },
          "metadata": {},
          "execution_count": 44
        }
      ]
    },
    {
      "cell_type": "code",
      "source": [],
      "metadata": {
        "id": "gPXVohLVQyJB"
      },
      "execution_count": null,
      "outputs": []
    },
    {
      "cell_type": "code",
      "source": [
        "x1 = Value(2.0, label='x1')\n",
        "x2 = Value(0.0, label='x2')\n",
        "\n",
        "\n",
        "w1 = Value(-3.0, label='w1')\n",
        "w2 = Value(1.0, label='w2')\n",
        "\n",
        "b = Value(6.88137358701, label='b')\n",
        "\n",
        "x1w1 = x1*w1; x1w1.label = 'x1w1'\n",
        "x2w2 = x2*w2; x2w2.label = 'x2w2'\n",
        "\n",
        "x1w1plusx2w2 = x1w1+x2w2; x1w1plusx2w2.label = 'x1*w1 + x2*w2'\n",
        "n = x1w1plusx2w2 + b; n.label = 'n'\n",
        "\n",
        "o = n.tanh(); o.label = 'o'\n",
        "\n",
        "o.backward()\n",
        "draw_graph(o)\n"
      ],
      "metadata": {
        "colab": {
          "base_uri": "https://localhost:8080/",
          "height": 749
        },
        "id": "Wyb_qKLZS_on",
        "outputId": "a118b8eb-1733-4cd5-95de-b94451446b1f"
      },
      "execution_count": 15,
      "outputs": [
        {
          "output_type": "stream",
          "name": "stdout",
          "text": [
            "DOING BIG BACKPROP\n",
            "Value(data=0.7071067811817758,label=o)\n",
            "GOING BACKWARD TANH.\n",
            "Value(data=0.8813735870099997,label=n)\n",
            "GOING BACKWARD ADDITION.\n",
            "Value(data=-6.0,label=x1*w1 + x2*w2)\n",
            "0.5000000000067482\n",
            "0.5000000000067482\n",
            "Value(data=6.88137358701,label=b)\n",
            "Value(data=-6.0,label=x1*w1 + x2*w2)\n",
            "GOING BACKWARD ADDITION.\n",
            "Value(data=-6.0,label=x1w1)\n",
            "0.5000000000067482\n",
            "0.5000000000067482\n",
            "Value(data=0.0,label=x2w2)\n",
            "GOING BACKWARD MULT.\n",
            "Value(data=0.0,label=x2)\n",
            "Value(data=1.0,label=w2)\n",
            "Value(data=0.0,label=x2)\n",
            "Value(data=-6.0,label=x1w1)\n",
            "GOING BACKWARD MULT.\n",
            "Value(data=2.0,label=x1)\n",
            "Value(data=-3.0,label=w1)\n",
            "Value(data=2.0,label=x1)\n"
          ]
        },
        {
          "output_type": "execute_result",
          "data": {
            "image/svg+xml": "<?xml version=\"1.0\" encoding=\"UTF-8\" standalone=\"no\"?>\n<!DOCTYPE svg PUBLIC \"-//W3C//DTD SVG 1.1//EN\"\n \"http://www.w3.org/Graphics/SVG/1.1/DTD/svg11.dtd\">\n<!-- Generated by graphviz version 2.43.0 (0)\n -->\n<!-- Title: %3 Pages: 1 -->\n<svg width=\"1569pt\" height=\"210pt\"\n viewBox=\"0.00 0.00 1569.00 210.00\" xmlns=\"http://www.w3.org/2000/svg\" xmlns:xlink=\"http://www.w3.org/1999/xlink\">\n<g id=\"graph0\" class=\"graph\" transform=\"scale(1 1) rotate(0) translate(4 206)\">\n<title>%3</title>\n<polygon fill=\"white\" stroke=\"transparent\" points=\"-4,4 -4,-206 1565,-206 1565,4 -4,4\"/>\n<!-- 134404025776208 -->\n<g id=\"node1\" class=\"node\">\n<title>134404025776208</title>\n<polygon fill=\"none\" stroke=\"black\" points=\"710,-137.5 710,-173.5 895,-173.5 895,-137.5 710,-137.5\"/>\n<text text-anchor=\"middle\" x=\"721.5\" y=\"-151.8\" font-family=\"Times,serif\" font-size=\"14.00\">b</text>\n<polyline fill=\"none\" stroke=\"black\" points=\"733,-137.5 733,-173.5 \"/>\n<text text-anchor=\"middle\" x=\"773\" y=\"-151.8\" font-family=\"Times,serif\" font-size=\"14.00\">data 6.8814</text>\n<polyline fill=\"none\" stroke=\"black\" points=\"813,-137.5 813,-173.5 \"/>\n<text text-anchor=\"middle\" x=\"854\" y=\"-151.8\" font-family=\"Times,serif\" font-size=\"14.00\">grad 0.5000</text>\n</g>\n<!-- 134404025770400+ -->\n<g id=\"node12\" class=\"node\">\n<title>134404025770400+</title>\n<ellipse fill=\"none\" stroke=\"black\" cx=\"1002\" cy=\"-127.5\" rx=\"27\" ry=\"18\"/>\n<text text-anchor=\"middle\" x=\"1002\" y=\"-123.8\" font-family=\"Times,serif\" font-size=\"14.00\">+</text>\n</g>\n<!-- 134404025776208&#45;&gt;134404025770400+ -->\n<g id=\"edge10\" class=\"edge\">\n<title>134404025776208&#45;&gt;134404025770400+</title>\n<path fill=\"none\" stroke=\"black\" d=\"M895.02,-142.52C920,-138.98 945.59,-135.36 965.37,-132.55\"/>\n<polygon fill=\"black\" stroke=\"black\" points=\"966.03,-135.99 975.43,-131.12 965.04,-129.06 966.03,-135.99\"/>\n</g>\n<!-- 134404025763440 -->\n<g id=\"node2\" class=\"node\">\n<title>134404025763440</title>\n<polygon fill=\"none\" stroke=\"black\" points=\"2.5,-55.5 2.5,-91.5 197.5,-91.5 197.5,-55.5 2.5,-55.5\"/>\n<text text-anchor=\"middle\" x=\"19\" y=\"-69.8\" font-family=\"Times,serif\" font-size=\"14.00\">w2</text>\n<polyline fill=\"none\" stroke=\"black\" points=\"35.5,-55.5 35.5,-91.5 \"/>\n<text text-anchor=\"middle\" x=\"75.5\" y=\"-69.8\" font-family=\"Times,serif\" font-size=\"14.00\">data 1.0000</text>\n<polyline fill=\"none\" stroke=\"black\" points=\"115.5,-55.5 115.5,-91.5 \"/>\n<text text-anchor=\"middle\" x=\"156.5\" y=\"-69.8\" font-family=\"Times,serif\" font-size=\"14.00\">grad 0.0000</text>\n</g>\n<!-- 134404025776544* -->\n<g id=\"node15\" class=\"node\">\n<title>134404025776544*</title>\n<ellipse fill=\"none\" stroke=\"black\" cx=\"263\" cy=\"-73.5\" rx=\"27\" ry=\"18\"/>\n<text text-anchor=\"middle\" x=\"263\" y=\"-69.8\" font-family=\"Times,serif\" font-size=\"14.00\">*</text>\n</g>\n<!-- 134404025763440&#45;&gt;134404025776544* -->\n<g id=\"edge6\" class=\"edge\">\n<title>134404025763440&#45;&gt;134404025776544*</title>\n<path fill=\"none\" stroke=\"black\" d=\"M197.91,-73.5C207.65,-73.5 217.05,-73.5 225.52,-73.5\"/>\n<polygon fill=\"black\" stroke=\"black\" points=\"225.7,-77 235.7,-73.5 225.7,-70 225.7,-77\"/>\n</g>\n<!-- 134404025765552 -->\n<g id=\"node3\" class=\"node\">\n<title>134404025765552</title>\n<polygon fill=\"none\" stroke=\"black\" points=\"666,-82.5 666,-118.5 939,-118.5 939,-82.5 666,-82.5\"/>\n<text text-anchor=\"middle\" x=\"719\" y=\"-96.8\" font-family=\"Times,serif\" font-size=\"14.00\">x1*w1 + x2*w2</text>\n<polyline fill=\"none\" stroke=\"black\" points=\"772,-82.5 772,-118.5 \"/>\n<text text-anchor=\"middle\" x=\"814.5\" y=\"-96.8\" font-family=\"Times,serif\" font-size=\"14.00\">data &#45;6.0000</text>\n<polyline fill=\"none\" stroke=\"black\" points=\"857,-82.5 857,-118.5 \"/>\n<text text-anchor=\"middle\" x=\"898\" y=\"-96.8\" font-family=\"Times,serif\" font-size=\"14.00\">grad 0.5000</text>\n</g>\n<!-- 134404025765552&#45;&gt;134404025770400+ -->\n<g id=\"edge7\" class=\"edge\">\n<title>134404025765552&#45;&gt;134404025770400+</title>\n<path fill=\"none\" stroke=\"black\" d=\"M935.24,-118.51C946.12,-120 956.4,-121.4 965.45,-122.64\"/>\n<polygon fill=\"black\" stroke=\"black\" points=\"965.11,-126.13 975.49,-124.01 966.05,-119.19 965.11,-126.13\"/>\n</g>\n<!-- 134404025765552+ -->\n<g id=\"node4\" class=\"node\">\n<title>134404025765552+</title>\n<ellipse fill=\"none\" stroke=\"black\" cx=\"603\" cy=\"-100.5\" rx=\"27\" ry=\"18\"/>\n<text text-anchor=\"middle\" x=\"603\" y=\"-96.8\" font-family=\"Times,serif\" font-size=\"14.00\">+</text>\n</g>\n<!-- 134404025765552+&#45;&gt;134404025765552 -->\n<g id=\"edge1\" class=\"edge\">\n<title>134404025765552+&#45;&gt;134404025765552</title>\n<path fill=\"none\" stroke=\"black\" d=\"M630.23,-100.5C637.7,-100.5 646.41,-100.5 655.87,-100.5\"/>\n<polygon fill=\"black\" stroke=\"black\" points=\"655.98,-104 665.98,-100.5 655.98,-97 655.98,-104\"/>\n</g>\n<!-- 134404025776832 -->\n<g id=\"node5\" class=\"node\">\n<title>134404025776832</title>\n<polygon fill=\"none\" stroke=\"black\" points=\"0,-165.5 0,-201.5 200,-201.5 200,-165.5 0,-165.5\"/>\n<text text-anchor=\"middle\" x=\"16.5\" y=\"-179.8\" font-family=\"Times,serif\" font-size=\"14.00\">w1</text>\n<polyline fill=\"none\" stroke=\"black\" points=\"33,-165.5 33,-201.5 \"/>\n<text text-anchor=\"middle\" x=\"75.5\" y=\"-179.8\" font-family=\"Times,serif\" font-size=\"14.00\">data &#45;3.0000</text>\n<polyline fill=\"none\" stroke=\"black\" points=\"118,-165.5 118,-201.5 \"/>\n<text text-anchor=\"middle\" x=\"159\" y=\"-179.8\" font-family=\"Times,serif\" font-size=\"14.00\">grad 1.0000</text>\n</g>\n<!-- 134404025766800* -->\n<g id=\"node10\" class=\"node\">\n<title>134404025766800*</title>\n<ellipse fill=\"none\" stroke=\"black\" cx=\"263\" cy=\"-128.5\" rx=\"27\" ry=\"18\"/>\n<text text-anchor=\"middle\" x=\"263\" y=\"-124.8\" font-family=\"Times,serif\" font-size=\"14.00\">*</text>\n</g>\n<!-- 134404025776832&#45;&gt;134404025766800* -->\n<g id=\"edge12\" class=\"edge\">\n<title>134404025776832&#45;&gt;134404025766800*</title>\n<path fill=\"none\" stroke=\"black\" d=\"M172.53,-165.44C181.84,-162.67 191.2,-159.67 200,-156.5 210.53,-152.71 221.75,-147.9 231.72,-143.33\"/>\n<polygon fill=\"black\" stroke=\"black\" points=\"233.25,-146.48 240.82,-139.07 230.28,-140.14 233.25,-146.48\"/>\n</g>\n<!-- 134404025763584 -->\n<g id=\"node6\" class=\"node\">\n<title>134404025763584</title>\n<polygon fill=\"none\" stroke=\"black\" points=\"2,-110.5 2,-146.5 198,-146.5 198,-110.5 2,-110.5\"/>\n<text text-anchor=\"middle\" x=\"17\" y=\"-124.8\" font-family=\"Times,serif\" font-size=\"14.00\">x1</text>\n<polyline fill=\"none\" stroke=\"black\" points=\"32,-110.5 32,-146.5 \"/>\n<text text-anchor=\"middle\" x=\"72\" y=\"-124.8\" font-family=\"Times,serif\" font-size=\"14.00\">data 2.0000</text>\n<polyline fill=\"none\" stroke=\"black\" points=\"112,-110.5 112,-146.5 \"/>\n<text text-anchor=\"middle\" x=\"155\" y=\"-124.8\" font-family=\"Times,serif\" font-size=\"14.00\">grad &#45;1.5000</text>\n</g>\n<!-- 134404025763584&#45;&gt;134404025766800* -->\n<g id=\"edge11\" class=\"edge\">\n<title>134404025763584&#45;&gt;134404025766800*</title>\n<path fill=\"none\" stroke=\"black\" d=\"M198.37,-128.5C208.05,-128.5 217.4,-128.5 225.8,-128.5\"/>\n<polygon fill=\"black\" stroke=\"black\" points=\"225.91,-132 235.91,-128.5 225.91,-125 225.91,-132\"/>\n</g>\n<!-- 134404025770352 -->\n<g id=\"node7\" class=\"node\">\n<title>134404025770352</title>\n<polygon fill=\"none\" stroke=\"black\" points=\"1376,-109.5 1376,-145.5 1561,-145.5 1561,-109.5 1376,-109.5\"/>\n<text text-anchor=\"middle\" x=\"1387.5\" y=\"-123.8\" font-family=\"Times,serif\" font-size=\"14.00\">o</text>\n<polyline fill=\"none\" stroke=\"black\" points=\"1399,-109.5 1399,-145.5 \"/>\n<text text-anchor=\"middle\" x=\"1439\" y=\"-123.8\" font-family=\"Times,serif\" font-size=\"14.00\">data 0.7071</text>\n<polyline fill=\"none\" stroke=\"black\" points=\"1479,-109.5 1479,-145.5 \"/>\n<text text-anchor=\"middle\" x=\"1520\" y=\"-123.8\" font-family=\"Times,serif\" font-size=\"14.00\">grad 1.0000</text>\n</g>\n<!-- 134404025770352tanh -->\n<g id=\"node8\" class=\"node\">\n<title>134404025770352tanh</title>\n<ellipse fill=\"none\" stroke=\"black\" cx=\"1313\" cy=\"-127.5\" rx=\"27\" ry=\"18\"/>\n<text text-anchor=\"middle\" x=\"1313\" y=\"-123.8\" font-family=\"Times,serif\" font-size=\"14.00\">tanh</text>\n</g>\n<!-- 134404025770352tanh&#45;&gt;134404025770352 -->\n<g id=\"edge2\" class=\"edge\">\n<title>134404025770352tanh&#45;&gt;134404025770352</title>\n<path fill=\"none\" stroke=\"black\" d=\"M1340.04,-127.5C1347.58,-127.5 1356.3,-127.5 1365.57,-127.5\"/>\n<polygon fill=\"black\" stroke=\"black\" points=\"1365.81,-131 1375.81,-127.5 1365.81,-124 1365.81,-131\"/>\n</g>\n<!-- 134404025766800 -->\n<g id=\"node9\" class=\"node\">\n<title>134404025766800</title>\n<polygon fill=\"none\" stroke=\"black\" points=\"326,-110.5 326,-146.5 540,-146.5 540,-110.5 326,-110.5\"/>\n<text text-anchor=\"middle\" x=\"349.5\" y=\"-124.8\" font-family=\"Times,serif\" font-size=\"14.00\">x1w1</text>\n<polyline fill=\"none\" stroke=\"black\" points=\"373,-110.5 373,-146.5 \"/>\n<text text-anchor=\"middle\" x=\"415.5\" y=\"-124.8\" font-family=\"Times,serif\" font-size=\"14.00\">data &#45;6.0000</text>\n<polyline fill=\"none\" stroke=\"black\" points=\"458,-110.5 458,-146.5 \"/>\n<text text-anchor=\"middle\" x=\"499\" y=\"-124.8\" font-family=\"Times,serif\" font-size=\"14.00\">grad 0.5000</text>\n</g>\n<!-- 134404025766800&#45;&gt;134404025765552+ -->\n<g id=\"edge13\" class=\"edge\">\n<title>134404025766800&#45;&gt;134404025765552+</title>\n<path fill=\"none\" stroke=\"black\" d=\"M540.4,-110.77C549.72,-109.21 558.65,-107.72 566.68,-106.39\"/>\n<polygon fill=\"black\" stroke=\"black\" points=\"567.38,-109.82 576.66,-104.72 566.22,-102.91 567.38,-109.82\"/>\n</g>\n<!-- 134404025766800*&#45;&gt;134404025766800 -->\n<g id=\"edge3\" class=\"edge\">\n<title>134404025766800*&#45;&gt;134404025766800</title>\n<path fill=\"none\" stroke=\"black\" d=\"M290.25,-128.5C297.7,-128.5 306.34,-128.5 315.59,-128.5\"/>\n<polygon fill=\"black\" stroke=\"black\" points=\"315.84,-132 325.84,-128.5 315.84,-125 315.84,-132\"/>\n</g>\n<!-- 134404025770400 -->\n<g id=\"node11\" class=\"node\">\n<title>134404025770400</title>\n<polygon fill=\"none\" stroke=\"black\" points=\"1065,-109.5 1065,-145.5 1250,-145.5 1250,-109.5 1065,-109.5\"/>\n<text text-anchor=\"middle\" x=\"1076.5\" y=\"-123.8\" font-family=\"Times,serif\" font-size=\"14.00\">n</text>\n<polyline fill=\"none\" stroke=\"black\" points=\"1088,-109.5 1088,-145.5 \"/>\n<text text-anchor=\"middle\" x=\"1128\" y=\"-123.8\" font-family=\"Times,serif\" font-size=\"14.00\">data 0.8814</text>\n<polyline fill=\"none\" stroke=\"black\" points=\"1168,-109.5 1168,-145.5 \"/>\n<text text-anchor=\"middle\" x=\"1209\" y=\"-123.8\" font-family=\"Times,serif\" font-size=\"14.00\">grad 0.5000</text>\n</g>\n<!-- 134404025770400&#45;&gt;134404025770352tanh -->\n<g id=\"edge8\" class=\"edge\">\n<title>134404025770400&#45;&gt;134404025770352tanh</title>\n<path fill=\"none\" stroke=\"black\" d=\"M1250.01,-127.5C1259.01,-127.5 1267.74,-127.5 1275.66,-127.5\"/>\n<polygon fill=\"black\" stroke=\"black\" points=\"1275.91,-131 1285.91,-127.5 1275.91,-124 1275.91,-131\"/>\n</g>\n<!-- 134404025770400+&#45;&gt;134404025770400 -->\n<g id=\"edge4\" class=\"edge\">\n<title>134404025770400+&#45;&gt;134404025770400</title>\n<path fill=\"none\" stroke=\"black\" d=\"M1029.04,-127.5C1036.58,-127.5 1045.3,-127.5 1054.57,-127.5\"/>\n<polygon fill=\"black\" stroke=\"black\" points=\"1054.81,-131 1064.81,-127.5 1054.81,-124 1054.81,-131\"/>\n</g>\n<!-- 134404025763296 -->\n<g id=\"node13\" class=\"node\">\n<title>134404025763296</title>\n<polygon fill=\"none\" stroke=\"black\" points=\"4,-0.5 4,-36.5 196,-36.5 196,-0.5 4,-0.5\"/>\n<text text-anchor=\"middle\" x=\"19\" y=\"-14.8\" font-family=\"Times,serif\" font-size=\"14.00\">x2</text>\n<polyline fill=\"none\" stroke=\"black\" points=\"34,-0.5 34,-36.5 \"/>\n<text text-anchor=\"middle\" x=\"74\" y=\"-14.8\" font-family=\"Times,serif\" font-size=\"14.00\">data 0.0000</text>\n<polyline fill=\"none\" stroke=\"black\" points=\"114,-0.5 114,-36.5 \"/>\n<text text-anchor=\"middle\" x=\"155\" y=\"-14.8\" font-family=\"Times,serif\" font-size=\"14.00\">grad 0.5000</text>\n</g>\n<!-- 134404025763296&#45;&gt;134404025776544* -->\n<g id=\"edge9\" class=\"edge\">\n<title>134404025763296&#45;&gt;134404025776544*</title>\n<path fill=\"none\" stroke=\"black\" d=\"M169.28,-36.5C179.65,-39.61 190.16,-42.98 200,-46.5 210.28,-50.17 221.28,-54.74 231.11,-59.07\"/>\n<polygon fill=\"black\" stroke=\"black\" points=\"229.93,-62.37 240.48,-63.27 232.79,-55.99 229.93,-62.37\"/>\n</g>\n<!-- 134404025776544 -->\n<g id=\"node14\" class=\"node\">\n<title>134404025776544</title>\n<polygon fill=\"none\" stroke=\"black\" points=\"328.5,-55.5 328.5,-91.5 537.5,-91.5 537.5,-55.5 328.5,-55.5\"/>\n<text text-anchor=\"middle\" x=\"352\" y=\"-69.8\" font-family=\"Times,serif\" font-size=\"14.00\">x2w2</text>\n<polyline fill=\"none\" stroke=\"black\" points=\"375.5,-55.5 375.5,-91.5 \"/>\n<text text-anchor=\"middle\" x=\"415.5\" y=\"-69.8\" font-family=\"Times,serif\" font-size=\"14.00\">data 0.0000</text>\n<polyline fill=\"none\" stroke=\"black\" points=\"455.5,-55.5 455.5,-91.5 \"/>\n<text text-anchor=\"middle\" x=\"496.5\" y=\"-69.8\" font-family=\"Times,serif\" font-size=\"14.00\">grad 0.5000</text>\n</g>\n<!-- 134404025776544&#45;&gt;134404025765552+ -->\n<g id=\"edge14\" class=\"edge\">\n<title>134404025776544&#45;&gt;134404025765552+</title>\n<path fill=\"none\" stroke=\"black\" d=\"M537.53,-90.14C547.8,-91.79 557.66,-93.37 566.45,-94.79\"/>\n<polygon fill=\"black\" stroke=\"black\" points=\"566.16,-98.28 576.59,-96.42 567.27,-91.37 566.16,-98.28\"/>\n</g>\n<!-- 134404025776544*&#45;&gt;134404025776544 -->\n<g id=\"edge5\" class=\"edge\">\n<title>134404025776544*&#45;&gt;134404025776544</title>\n<path fill=\"none\" stroke=\"black\" d=\"M290.25,-73.5C298.43,-73.5 308.03,-73.5 318.31,-73.5\"/>\n<polygon fill=\"black\" stroke=\"black\" points=\"318.35,-77 328.35,-73.5 318.35,-70 318.35,-77\"/>\n</g>\n</g>\n</svg>\n",
            "text/plain": [
              "<graphviz.graphs.Digraph at 0x7a3d603644c0>"
            ]
          },
          "metadata": {},
          "execution_count": 15
        }
      ]
    },
    {
      "cell_type": "markdown",
      "source": [
        "Now let's start with neurons!"
      ],
      "metadata": {
        "id": "ie7LpphiKhK7"
      }
    },
    {
      "cell_type": "code",
      "source": [],
      "metadata": {
        "id": "0P1937A0DEUM"
      },
      "execution_count": 13,
      "outputs": []
    }
  ]
}